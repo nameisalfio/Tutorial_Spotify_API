



























































import requests
import base64

def get_spotify_access_token(client_id, client_secret):
    url = 'https://accounts.spotify.com/api/token'
    headers = {
        'Authorization': 'Basic ' + base64.b64encode(f'{client_id}:{client_secret}'.encode()).decode()
    }
    data = {
        'grant_type': 'client_credentials'
    }
    
    try:
        response = requests.post(url, headers=headers, data=data)
        response.raise_for_status()  # Raises an exception for HTTP request errors
        token_data = response.json()
        
        if 'access_token' in token_data:
            return token_data['access_token']
        else:
            raise Exception(f"Error obtaining access token: {token_data.get('error', 'Unknown error')}")
            
    except requests.exceptions.RequestException as e:
        raise Exception(f"HTTP request error: {e}")


from dotenv import load_dotenv
import os

load_dotenv()

client_id = os.getenv('CLIENT_ID')
client_secret = os.getenv('CLIENT_SECRET')

access_token = get_spotify_access_token(client_id, client_secret) # obtain the access token
print(f"Access token: {access_token}")











import requests

def search_artist(token, artist_name):
    url = "https://api.spotify.com/v1/search"
    headers = {
        "Authorization": f"Bearer {token}"
    }
    params = {
        "q": artist_name,
        "type": "artist",
        "limit": 1
    }
    
    try:
        response = requests.get(url, headers=headers, params=params)
        response.raise_for_status()  # Raises an exception for HTTP request errors
        data = response.json()
        artists = data.get("artists", {}).get("items", [])
        
        if artists:
            return artists[0]
        else:
            print(f"No artist found with the name '{artist_name}'.")
            return None
            
    except requests.exceptions.RequestException as e:
        print(f"HTTP request error: {e}")
        return None





from bs4 import BeautifulSoup

def extract_spotify_url(external_urls):
    return artist.get("external_urls", {}).get("spotify")
    
def make_clickable(link):
    return f'<a href="{link}" target="_blank">{link}</a>'

def display_image(image_url):
    return f'<img src="{image_url}" alt="Cover Image" style="max-height: 80px; max-width: 80px;">'

def convert_duration(duration_ms):
    duration_minutes = duration_ms / 60000
    return round(duration_minutes, 2)

def extract_href(html):
    soup = BeautifulSoup(html, 'html.parser', markupResemblesLocator=False)
    return soup.a['href']


import pandas as pd
from IPython.display import Image, display, HTML

# Example artist name
artist_name = "Emis Killa" 
artist = search_artist(access_token, artist_name)  # Obtain the artist

# Prepare artist data
artist_data = {
    "Name": artist["name"],
    "ID": artist["id"],
    "Genre": artist["genres"][0] if artist["genres"] else "Unknown",
    "Popularity": artist["popularity"],
    "Followers": artist["followers"]["total"],
    "Spotify URL": extract_spotify_url(artist),
    "Image": artist["images"][0]["url"] if artist["images"] else "No Image"
}

# Create a DataFrame
artist_data_frame = pd.DataFrame([artist_data])

# Apply auxiliary functions
artist_data_frame['Spotify URL'] = artist_data_frame['Spotify URL'].apply(make_clickable)
artist_data_frame['Image'] = artist_data_frame['Image'].apply(display_image)

# Print artist information
print(f"Artist found: {artist_name} (ID: {artist_data['ID']})\n") 

# Display the DataFrame with clickable links and images
display(HTML(artist_data_frame.to_html(escape=False)))











def get_albums(token, artist_id):
    url = f'https://api.spotify.com/v1/artists/{artist_id}/albums'
    
    headers = {
        "Authorization": f"Bearer {token}"
    }
    params = {
        "market": "IT"
    }

    try:
        response = requests.get(url, headers=headers, params=params)
        response.raise_for_status()  # Solleva un'eccezione se la richiesta HTTP non ha successo
        data = response.json()
        
        return data.get("items", [])
        
    except requests.exceptions.RequestException as e:
        print(f"Errore nella richiesta HTTP: {e}")
        return []


artist_albums = get_albums(access_token, artist["id"])
album_data_frame = pd.DataFrame(artist_albums, columns=['name', 'id', 'release_date', 'total_tracks', 'images', 'external_urls'])

# Rinomina le colonne per chiarezza
album_data_frame = album_data_frame.rename(columns={'name': 'Titolo', 'id': 'ID', 'release_date': 'Data di uscita', 'total_tracks': 'No. Tracce', 'images': 'Copertina', 'external_urls': 'Spotify URL'})

# Visualizza l'immagine dell'album
album_data_frame['Copertina'] = album_data_frame['Copertina'].apply(lambda x: display_image(x[0]["url"]))

# Filtra gli album con un numero diverso da 1 di tracce
album_data_frame = album_data_frame[album_data_frame["No. Tracce"] != 1]

# Rendi cliccabili gli URL di Spotify
album_data_frame['Spotify URL'] = album_data_frame['Spotify URL'].apply(extract_spotify_url)
album_data_frame['Spotify URL'] = album_data_frame['Spotify URL'].apply(make_clickable)

print(f"Gli album dell'artista {artist_name} sono:\n")
display(HTML(album_data_frame.to_html(escape=False)))





def get_album_tracks(token, album_id):
    url = f'https://api.spotify.com/v1/albums/{album_id}/tracks'
    
    headers = {
        "Authorization": f"Bearer {token}"
    }
    params = {
        "market": "IT"
    }

    try:
        response = requests.get(url, headers=headers, params=params)
        response.raise_for_status()  # Solleva un'eccezione se la richiesta HTTP non ha successo
        data = response.json()
        
        return data.get("items", [])
        
    except requests.exceptions.RequestException as e:
        print(f"Errore nella richiesta HTTP: {e}")
        return []


album_name = "Effetto notte"  
album_id = album_data_frame.loc[album_data_frame['Titolo'] == album_name, 'ID'].values[0]

album_tracks = get_album_tracks(access_token, album_id)
album_track_data_frame = pd.DataFrame(album_tracks, columns=['name','id','duration_ms','external_urls', 'uri'])
album_track_data_frame = album_track_data_frame.rename(columns={'name': 'Titolo', 'id': 'ID', 'duration_ms': 'Durata', 'external_urls': 'Spotify URL', 'uri': 'URI'})

album_track_data_frame['Durata'] = album_track_data_frame['Durata'].apply(convert_duration)
album_track_data_frame['Spotify URL'] = album_track_data_frame['Spotify URL'].apply(extract_spotify_url)
album_track_data_frame['Spotify URL'] = album_track_data_frame['Spotify URL'].apply(make_clickable)
album_track_data_frame['URI'] = album_track_data_frame['URI'].apply(lambda uri: uri.split(':')[-1])

print(f"Le tracce dell'album {album_name} sono:\n")
display(HTML(album_track_data_frame.to_html(escape=False)))





# Creazione del DataFrame complessivo utile per la sezione 7 del tutorial
discography_data_frames_list = []

for index, row in album_data_frame.iterrows():
    album_name = row['Titolo']
    album_id = row['ID']

    album_tracks = get_album_tracks(access_token, album_id)

    tracks_data_frame = pd.DataFrame(album_tracks, columns=['name', 'id', 'duration_ms','external_urls', 'uri'])
    tracks_data_frame = tracks_data_frame.rename(columns={'name': 'Titolo', 'id': 'ID', 'duration_ms': 'Durata', 'external_urls': 'Spotify URL', 'uri': 'URI'})

    tracks_data_frame['Durata'] = tracks_data_frame['Durata'].apply(convert_duration)
    tracks_data_frame['Spotify URL'] = tracks_data_frame['Spotify URL'].apply(extract_spotify_url)
    tracks_data_frame['Spotify URL'] = tracks_data_frame['Spotify URL'].apply(make_clickable)
    tracks_data_frame['URI'] = tracks_data_frame['URI'].apply(lambda uri: uri.split(':')[-1])
    tracks_data_frame['Album'] = album_name
    
    discography_data_frames_list.append(tracks_data_frame)

    print(f"\nLe tracce dell'album \"{album_name}\" sono:\n")
    display(HTML(tracks_data_frame.to_html(escape=False)))
    print('=' * 138)

discography_data_frame = pd.concat(discography_data_frames_list, ignore_index=True)
discography_data_frame['Spotify URL'] = discography_data_frame['Spotify URL'].apply(extract_href)
discography_data_frame['Spotify URL'] = discography_data_frame['Spotify URL'].apply(make_clickable)





print("\nDataFrame complessivo delle tracce:")
display(HTML(discography_data_frame.to_html(escape=False)))
discography_data_frame.to_csv('discography_data.csv', index=False)





def get_top_tracks_artist(token, artist_id):
    url = f"https://api.spotify.com/v1/artists/{artist_id}/top-tracks?country=IT"
    headers = {
        "Authorization": f"Bearer {token}"
    }
    
    try:
        response = requests.get(url, headers=headers)
        response.raise_for_status()  
        data = response.json()["tracks"]
        return data
        
    except requests.exceptions.RequestException as e:
        print(f"Errore nella richiesta HTTP: {e}")
        return None


top_tracks = get_top_tracks_artist(access_token, artist_data['ID'])

top_tracks_data_frame = pd.DataFrame([{
    'Titolo': track['name'],
    'ID': track['id'],
    'Popolarità': track['popularity'],
    'Durata': convert_duration(track['duration_ms']),
    'Data di rilascio': track['album']['release_date'],
    'Album' : track["album"]["name"],
    'Spotify URL': track['external_urls']['spotify']
} for track in top_tracks])
top_tracks_data_frame['Spotify URL'] = top_tracks_data_frame['Spotify URL'].apply(make_clickable)

print(f"Top Tracks dell'artista {artist_name} :\n")
display(HTML(top_tracks_data_frame.to_html(escape=False)))





def get_artist_related(token, id):
    url = f"https://api.spotify.com/v1/artists/{id}/related-artists"
    headers = {
        "Authorization": f"Bearer {token}"
    }

    try:
        response = requests.get(url, headers=headers)
        response.raise_for_status() 
        data = response.json()["artists"]
        return data
    except requests.exceptions.RequestException as e:
        print(f"Errore nella richiesta HTTP: {e}")
        return None


artists = get_artist_related(access_token, artist_data['ID'])

artists_data = pd.DataFrame([{
    'Nome' : artist["name"],
    'ID': artist['id'],
    'Genere': artist['genres'][0],
    'Popolarità': artist['popularity'],
    'Followers' : artist["followers"]["total"],
    'Spotify URL': artist['external_urls']['spotify'],
    "Immagine": artist["images"][0]["url"]
} for artist in artists])

artists_data_frame = pd.DataFrame(artists_data)
artists_data_frame['Spotify URL'] = artists_data_frame['Spotify URL'].apply(make_clickable)
artists_data_frame['Immagine'] = artists_data_frame['Immagine'].apply(display_image)
artists_data_frame = artists_data_frame.sort_values(by='Followers',ascending=False)
artists_data_frame = artists_data_frame.reset_index(drop=True)

print(f'Artisti correlati:\n')
display(HTML(artists_data_frame.to_html(escape=False)))





def get_track_details(access_token, track_id):
    url = f'https://api.spotify.com/v1/tracks/{track_id}'
    headers = {
        'Authorization': f'Bearer {access_token}'
    }

    try:
        response = requests.get(url, headers=headers)
        response.raise_for_status()  # Solleva un'eccezione se la richiesta HTTP non ha successo
        track_data = response.json()
        return track_data

    except requests.exceptions.RequestException as e:
        raise Exception(f"Errore nella richiesta HTTP: {e}")


track_name = "Mercurio"
track_id = discography_data_frame.loc[discography_data_frame['Titolo'] == track_name, 'ID'].values[0]

track_details = get_track_details(access_token, track_id)

track_data_frame = pd.DataFrame({
    'Titolo': [track_details['name']],
    'ID': [track_details['id']],
    'Durata': [convert_duration(track_details['duration_ms'])],  # Applica la conversione della durata
    'Data di rilascio': [track_details['album']['release_date']],
    'Popolarità': [track_details['popularity']],
    'Spotify URL': [extract_spotify_url(track_details['external_urls'])],
    'Album': [track_details['album']['name']],
    'Copertina': [track_details['album']['images'][0]['url']]
})

track_data_frame['Spotify URL'] = track_data_frame['Spotify URL'].apply(make_clickable)
track_data_frame['Copertina'] = track_data_frame['Copertina'].apply(display_image)

print(f'Traccia {track_name}:\n')
HTML(track_data_frame.to_html(escape=False))





import urllib.parse
import secrets
from datetime import datetime
import webbrowser

# Definizione delle costanti
REDIRECT_URI = "http://localhost:5000/callback"
TOKEN_URL = "https://accounts.spotify.com/api/token"
AUTH_URL = "https://accounts.spotify.com/authorize"
API_BASE_URL = "https://api.spotify.com/v1/"

# Generazione di uno stato sicuro
state = secrets.token_urlsafe(16)

# Definizione dello scope
scope = 'user-read-private user-top-read user-read-email user-follow-read playlist-modify-private playlist-modify-public user-follow-modify user-library-read'

# Costruzione dei parametri per l'autorizzazione
auth_params = {
    'client_id': client_id,
    'response_type': 'code',
    'scope': scope,
    'redirect_uri': REDIRECT_URI,
    'show_dialog': True,
    'state': state
}

# Costruzione dell'URL di autorizzazione
auth_url = f"{AUTH_URL}?{urllib.parse.urlencode(auth_params)}"

# Apertura automatica dell'URL nel browser
webbrowser.open(auth_url, new=2)

# Stampa di un messaggio informativo
print(f'Si aprirà una finestra del browser. Dopo aver autorizzato l\'app, copia l\'URL della pagina ed incollalo qui di seguito.')

# Ricezione dell'URL di callback in modo automatico
callback_url = input("Incolla l'URL della pagina qui: ")
url_components = urllib.parse.urlparse(callback_url)
query_params = urllib.parse.parse_qs(url_components.query)

# Rimuovi il messaggio informativo sulla finestra del browser
print('\033[F\033[F\033[F\033[F\033[F\033[F\033[F')

# Estrazione del codice di autorizzazione dalla risposta di callback
authorization_code = query_params.get('code')

# Costruzione del corpo della richiesta per ottenere il token di accesso
token_request_body = {
    'code': authorization_code,
    'grant_type': 'authorization_code',
    'redirect_uri': REDIRECT_URI,
    'client_id': client_id,
    'client_secret': client_secret
}

# Richiesta del token di accesso
token_response = requests.post(TOKEN_URL, data=token_request_body)
token_info = token_response.json()

# Estrazione delle informazioni dal token di accesso
access_token = token_info.get('access_token')
refresh_token = token_info.get('refresh_token')
expires_at = datetime.now().timestamp() + token_info.get('expires_in', 3600)

# Creazione dell'header di autorizzazione per le future richieste all'API di Spotify
headers = {
    'Authorization': f'Bearer {access_token}'
}





def get_current_user_profile(access_token):
    url = 'https://api.spotify.com/v1/me'
    
    headers = {
        'Authorization': f'Bearer {access_token}'
    }

    try:
        response = requests.get(url, headers=headers)
        response.raise_for_status()  # Solleva un'eccezione se la richiesta HTTP non ha successo

        user_data = response.json()
        return user_data

    except requests.exceptions.HTTPError as e:
        # Dettagli specifici sull'errore
        if response.status_code == 401:
            raise Exception("Accesso non autorizzato. L'access token potrebbe essere scaduto o non valido.")
        else:
            raise Exception(f"Errore nella richiesta HTTP: {e}")
    except requests.exceptions.RequestException as e:
        raise Exception(f"Errore nella richiesta HTTP: {e}")


user_details = get_current_user_profile(access_token)

user_data = {
    'Nome': user_details.get('display_name', ''),
    'ID': user_details.get('id', ''),
    'E-mail': user_details.get('email', ''),
    'Paese': user_details.get('country', ''),
    'Followers': user_details.get('followers', {}).get('total', 0),
    'Spotify URL': extract_spotify_url(user_details.get('external_urls', {}))
}

user_data_frame = pd.DataFrame([user_data], columns=['Nome', 'ID', 'E-mail', 'Paese', 'Followers', 'Spotify URL'])
user_data_frame['Spotify URL'] = user_data_frame['Spotify URL'].apply(make_clickable)

print(f'Utente corrente:\n')
HTML(user_data_frame.to_html(escape=False))





def get_user_playlists(access_token, user_id):
    url = f'https://api.spotify.com/v1/users/{user_id}/playlists'
    headers = {
        'Authorization': f'Bearer {access_token}'
    }

    try:
        response = requests.get(url, headers=headers)
        response.raise_for_status()  # Solleva un'eccezione se la richiesta HTTP non ha successo
        playlists_data = response.json()
        return playlists_data

    except requests.exceptions.RequestException as e:
        raise Exception(f"Errore nella richiesta HTTP: {e}")


playlists_data = get_user_playlists(access_token, user_data_frame['ID'][0])

playlists = []
for playlist in playlists_data['items']:
    playlist_data = {
        'Titolo': playlist['name'],
        'ID': playlist['id'],
        'Spotify URL': playlist['external_urls']['spotify'],
        'No. Tracce': playlist['tracks']['total'],
        'Proprietario': playlist['owner']['display_name'],
        'Descrizione': playlist['description'] if playlist['description'] != '' else 'Nessuna descrizione',
        'Copertina': playlist['images'][0]['url'] if playlist['images'] else None
    }
    playlists.append(playlist_data)
playlist_data_frame = pd.DataFrame(playlists)

playlist_data_frame = playlist_data_frame.sort_values(by='No. Tracce', ascending=False)
playlist_data_frame = playlist_data_frame.reset_index(drop=True)

playlist_data_frame['Spotify URL'] = playlist_data_frame['Spotify URL'].apply(make_clickable)
playlist_data_frame['Copertina'] = playlist_data_frame['Copertina'].apply(display_image)

user_name = user_data_frame['Nome'][0]
print(f'Playlist create o seguite dall\'utente {user_name}:\n')
HTML(playlist_data_frame.to_html(escape=False))





def get_playlist_track_ids(access_token, playlist_id):
    url = f'https://api.spotify.com/v1/playlists/{playlist_id}/tracks'
    headers = {
        'Authorization': f'Bearer {access_token}'
    }

    try:
        response = requests.get(url, headers=headers)
        response.raise_for_status()
        playlist_tracks_data = response.json()
        track_ids = [track['track']['id'] for track in playlist_tracks_data['items']]
        return track_ids

    except requests.exceptions.RequestException as e:
        raise Exception(f"Errore nella richiesta HTTP: {e}")


playlist_name = playlist_data_frame['Titolo'][0]
playlist_id = playlist_data_frame['ID'][0]
playlist_track_ids = get_playlist_track_ids(access_token, playlist_id)

tracks_data = []
for track_id in playlist_track_ids:
    track_details = get_track_details(access_token, track_id)
    tracks_data.append({
        'Titolo': track_details['name'],
        'ID': track_details['id'],
        'Durata': convert_duration(track_details['duration_ms']),
        'Data di rilascio': track_details['album']['release_date'],
        'Popolarità': track_details['popularity'],
        'Spotify URL': extract_spotify_url(track_details['external_urls']),
        'Album': track_details['album']['name'],
        'Copertina': track_details['album']['images'][0]['url']
    })

tracks_data_frame = pd.DataFrame(tracks_data)
tracks_data_frame['Spotify URL'] = tracks_data_frame['Spotify URL'].apply(make_clickable)
tracks_data_frame['Copertina'] = tracks_data_frame['Copertina'].apply(display_image)

print(f'Tutti i brani della playlist {playlist_name} sono:\n')
HTML(tracks_data_frame.to_html(escape=False))








import matplotlib.pyplot as plt
import numpy as np
import seaborn as sns





duration_per_album = discography_data_frame.groupby('Album')['Durata'].mean().reset_index()

sns.set_style("whitegrid")

plt.figure(figsize=(12, 8))
colors = sns.color_palette("viridis", len(duration_per_album))
barplot = plt.bar(duration_per_album['Album'], duration_per_album['Durata'], color=colors, width=0.5)

for bar, duration in zip(barplot, duration_per_album['Durata']):
    plt.text(bar.get_x() + bar.get_width() / 2, bar.get_height(), f'{duration:.2f}', ha='center', va='bottom', fontsize=10, color='black')

plt.xticks(rotation=45, ha='right')
plt.xlabel('Album')
plt.ylabel('Durata Media (m)')
plt.title('Durata Media delle Tracce per Album')

plt.tight_layout()
plt.show()





import pandas as pd

sns.set_style("whitegrid")

# Creiamo un barplot della popolarità e del numero di followers degli artisti correlati
plt.figure(figsize=(12, 8))
bar_width = 0.4

# Posizioni delle barre sull'asse x
r1 = range(len(artists_data_frame))
r2 = [x + bar_width for x in r1]

# Barre per la popolarità
plt.bar(r1, artists_data_frame['Popolarità'], color='skyblue', width=bar_width, edgecolor='grey', label='Popolarità')

# Barre per il numero di followers
plt.bar(r2, artists_data_frame['Followers']/10000, color='orange', width=bar_width, edgecolor='grey', label='Followers (10K)')

# Etichette con i valori di popolarità su ogni barra (troncati alla parte intera)
for i, popularity in enumerate(artists_data_frame['Popolarità']):
    plt.text(i, int(popularity), f'{int(popularity)}', ha='center', va='bottom', fontsize=10, color='black')

# Etichette con i valori di followers su ogni barra (troncati alla parte intera e in formato 10K)
for i, followers in enumerate(artists_data_frame['Followers']):
    plt.text(i + bar_width, followers/10000, f'{followers/1000:.0f}', ha='center', va='bottom', fontsize=10, color='black')

# Personalizziamo l'aspetto del grafico
plt.xticks([r + bar_width / 2 for r in range(len(artists_data_frame))], artists_data_frame['Nome'], rotation=45, ha='right')
plt.xlabel('Artista')
plt.ylabel('Valori')  # Modificato il testo per riflettere la rimozione della normalizzazione
plt.title('Popolarità e Followers degli Artisti Correlati')
plt.legend()

# Aggiungi etichette agli assi
plt.xlabel('Artista')
plt.ylabel('Popolarità e Followers (10K)')

plt.tight_layout()
plt.show()





from tqdm import tqdm

with open('artists/italian.txt', 'r') as file:
    italian_artist_names = [line.strip() for line in file]

artists_data = []

# Usa tqdm per monitorare l'avanzamento del ciclo
for artist_name in tqdm(italian_artist_names, desc='Processing artists', unit='artist'):
    artist = search_artist(access_token, artist_name)
    
    artist_data = {
        "Nome": artist["name"],
        "ID": artist["id"],
        "Genere": artist["genres"][0] if artist["genres"] else None,
        "Popolarità": artist["popularity"],
        "Followers": artist["followers"]["total"],
        "Spotify URL": artist["external_urls"]["spotify"]
    }
    
    artists_data.append(artist_data)
    
italian_artists_data_frame = pd.DataFrame(artists_data)
italian_artists_data_frame['Spotify URL'] = italian_artists_data_frame['Spotify URL'].apply(make_clickable)
italian_artists_data_frame['Nazionalità'] = "Italiana" 

display(HTML(italian_artists_data_frame.to_html(escape=False)))





with open('artists/american.txt', 'r') as file:
    american_artist_names = [line.strip() for line in file]

artists_data = []

# Usa tqdm per monitorare l'avanzamento del ciclo
for artist_name in tqdm(american_artist_names, desc='Processing artists', unit='artist'):
    artist = search_artist(access_token, artist_name)
    
    artist_data = {
        "Nome": artist["name"],
        "ID": artist["id"],
        "Genere": artist["genres"][0] if artist["genres"] else None,
        "Popolarità": artist["popularity"],
        "Followers": artist["followers"]["total"],
        "Spotify URL": artist["external_urls"]["spotify"]
    }
    
    artists_data.append(artist_data)
    
american_artists_data_frame = pd.DataFrame(artists_data)
american_artists_data_frame['Spotify URL'] = american_artists_data_frame['Spotify URL'].apply(make_clickable)
american_artists_data_frame['Nazionalità'] = "Americana" 

display(HTML(american_artists_data_frame.to_html(escape=False)))





with open('artists/french.txt', 'r') as file:
    french_artist_names = [line.strip() for line in file]

artists_data = []

# Usa tqdm per monitorare l'avanzamento del ciclo
for artist_name in tqdm(french_artist_names, desc='Processing artists', unit='artist'):
    artist = search_artist(access_token, artist_name)
    
    artist_data = {
        "Nome": artist["name"],
        "ID": artist["id"],
        "Genere": artist["genres"][0] if artist["genres"] else None,
        "Popolarità": artist["popularity"],
        "Followers": artist["followers"]["total"],
        "Spotify URL": artist["external_urls"]["spotify"]
    }
    
    artists_data.append(artist_data)
    
french_artists_data_frame = pd.DataFrame(artists_data)
french_artists_data_frame['Spotify URL'] = french_artists_data_frame['Spotify URL'].apply(make_clickable)
french_artists_data_frame['Nazionalità'] = "Francese" 

display(HTML(french_artists_data_frame.to_html(escape=False)))





with open('artists/german.txt', 'r') as file:
    german_artist_names = [line.strip() for line in file]

artists_data = []

# Usa tqdm per monitorare l'avanzamento del ciclo
for artist_name in tqdm(german_artist_names, desc='Processing artists', unit='artist'):
    artist = search_artist(access_token, artist_name)
    
    artist_data = {
        "Nome": artist["name"],
        "ID": artist["id"],
        "Genere": artist["genres"][0] if artist["genres"] else None,
        "Popolarità": artist["popularity"],
        "Followers": artist["followers"]["total"],
        "Spotify URL": artist["external_urls"]["spotify"]
    }
    
    artists_data.append(artist_data)
    
german_artists_data_frame = pd.DataFrame(artists_data)
german_artists_data_frame['Spotify URL'] = german_artists_data_frame['Spotify URL'].apply(make_clickable)
german_artists_data_frame['Nazionalità'] = "Tedesca" 

display(HTML(german_artists_data_frame.to_html(escape=False)))





with open('artists/chinese.txt', 'r') as file:
    chinese_artist_names = [line.strip() for line in file]

artists_data = []

# Usa tqdm per monitorare l'avanzamento del ciclo
for artist_name in tqdm(chinese_artist_names, desc='Processing artists', unit='artist'):
    artist = search_artist(access_token, artist_name)
    
    artist_data = {
        "Nome": artist["name"],
        "ID": artist["id"],
        "Genere": artist["genres"][0] if artist["genres"] else None,
        "Popolarità": artist["popularity"],
        "Followers": artist["followers"]["total"],
        "Spotify URL": artist["external_urls"]["spotify"]
    }
    
    artists_data.append(artist_data)
    
chinese_artists_data_frame = pd.DataFrame(artists_data)
chinese_artists_data_frame['Spotify URL'] = chinese_artists_data_frame['Spotify URL'].apply(make_clickable)
chinese_artists_data_frame['Nazionalità'] = "Cinese" 

display(HTML(chinese_artists_data_frame.to_html(escape=False)))





with open('artists/japanese.txt', 'r') as file:
    japanese_artist_names = [line.strip() for line in file]

artists_data = []

# Usa tqdm per monitorare l'avanzamento del ciclo
for artist_name in tqdm(japanese_artist_names, desc='Processing artists', unit='artist'):
    artist = search_artist(access_token, artist_name)
    
    artist_data = {
        "Nome": artist["name"],
        "ID": artist["id"],
        "Genere": artist["genres"][0] if artist["genres"] else None,
        "Popolarità": artist["popularity"],
        "Followers": artist["followers"]["total"],
        "Spotify URL": artist["external_urls"]["spotify"]
    }
    
    artists_data.append(artist_data)
    
japanese_artists_data_frame = pd.DataFrame(artists_data)
japanese_artists_data_frame['Spotify URL'] = japanese_artists_data_frame['Spotify URL'].apply(make_clickable)
japanese_artists_data_frame['Nazionalità'] = "Giapponese" 

display(HTML(japanese_artists_data_frame.to_html(escape=False)))





with open('artists/romanian.txt', 'r') as file:
    romanian_artist_names = [line.strip() for line in file]

artists_data = []

# Usa tqdm per monitorare l'avanzamento del ciclo
for artist_name in tqdm(romanian_artist_names, desc='Processing artists', unit='artist'):
    artist = search_artist(access_token, artist_name)
    
    artist_data = {
        "Nome": artist["name"],
        "ID": artist["id"],
        "Genere": artist["genres"][0] if artist["genres"] else None,
        "Popolarità": artist["popularity"],
        "Followers": artist["followers"]["total"],
        "Spotify URL": artist["external_urls"]["spotify"]
    }
    
    artists_data.append(artist_data)
    
romanian_artists_data_frame = pd.DataFrame(artists_data)
romanian_artists_data_frame['Spotify URL'] = romanian_artists_data_frame['Spotify URL'].apply(make_clickable)
romanian_artists_data_frame['Nazionalità'] = "Rumena" 

display(HTML(romanian_artists_data_frame.to_html(escape=False)))





with open('artists/bulgarian.txt', 'r') as file:
    bulgarian_artist_names = [line.strip() for line in file]

artists_data = []

# Usa tqdm per monitorare l'avanzamento del ciclo
for artist_name in tqdm(bulgarian_artist_names, desc='Processing artists', unit='artist'):
    artist = search_artist(access_token, artist_name)
    
    artist_data = {
        "Nome": artist["name"],
        "ID": artist["id"],
        "Genere": artist["genres"][0] if artist["genres"] else None,
        "Popolarità": artist["popularity"],
        "Followers": artist["followers"]["total"],
        "Spotify URL": artist["external_urls"]["spotify"]
    }
    
    artists_data.append(artist_data)
    
bulgarian_artists_data_frame = pd.DataFrame(artists_data)
bulgarian_artists_data_frame['Spotify URL'] = bulgarian_artists_data_frame['Spotify URL'].apply(make_clickable)
bulgarian_artists_data_frame['Nazionalità'] = "Bulgara" 

display(HTML(bulgarian_artists_data_frame.to_html(escape=False)))





with open('artists/spanish.txt', 'r') as file:
    spanish_artist_names = [line.strip() for line in file]

artists_data = []

# Usa tqdm per monitorare l'avanzamento del ciclo
for artist_name in tqdm(spanish_artist_names, desc='Processing artists', unit='artist'):
    artist = search_artist(access_token, artist_name)
    
    artist_data = {
        "Nome": artist["name"],
        "ID": artist["id"],
        "Genere": artist["genres"][0] if artist["genres"] else None,
        "Popolarità": artist["popularity"],
        "Followers": artist["followers"]["total"],
        "Spotify URL": artist["external_urls"]["spotify"]
    }
    
    artists_data.append(artist_data)
    
spanish_artists_data_frame = pd.DataFrame(artists_data)
spanish_artists_data_frame['Spotify URL'] = spanish_artists_data_frame['Spotify URL'].apply(make_clickable)
spanish_artists_data_frame['Nazionalità'] = "Spagnola" 

display(HTML(spanish_artists_data_frame.to_html(escape=False)))





with open('artists/corean.txt', 'r') as file:
    corean_artist_names = [line.strip() for line in file]

artists_data = []

# Usa tqdm per monitorare l'avanzamento del ciclo
for artist_name in tqdm(corean_artist_names, desc='Processing artists', unit='artist'):
    artist = search_artist(access_token, artist_name)
    
    artist_data = {
        "Nome": artist["name"],
        "ID": artist["id"],
        "Genere": artist["genres"][0] if artist["genres"] else None,
        "Popolarità": artist["popularity"],
        "Followers": artist["followers"]["total"],
        "Spotify URL": artist["external_urls"]["spotify"]
    }
    
    artists_data.append(artist_data)
    
corean_artists_data_frame = pd.DataFrame(artists_data)
corean_artists_data_frame['Spotify URL'] = corean_artists_data_frame['Spotify URL'].apply(make_clickable)
corean_artists_data_frame['Nazionalità'] = "Coreana" 

display(HTML(corean_artists_data_frame.to_html(escape=False)))





data_frames = [
    italian_artists_data_frame,
    american_artists_data_frame,
    french_artists_data_frame,
    german_artists_data_frame,
    chinese_artists_data_frame,
    japanese_artists_data_frame,
    romanian_artists_data_frame,
    bulgarian_artists_data_frame,
    spanish_artists_data_frame,
    corean_artists_data_frame
]

international_artists_data_frame = pd.concat(data_frames, ignore_index=True)

print("DataFrame complessivo degli artisti internazionali:")
display(HTML(international_artists_data_frame.to_html(escape=False)))

international_artists_data_frame.to_csv('international_artists_data.csv', index=False)


international_artists_data_frame.describe()





mean_data = international_artists_data_frame.groupby('Nazionalità').agg({'Popolarità': 'mean', 'Followers': 'mean'}).reset_index()

sns.set_style("whitegrid")

plt.figure(figsize=(12, 6))
sns.barplot(data=mean_data, x='Nazionalità', y='Popolarità', palette='viridis', width=0.6)
plt.title('Popolarità media per nazionalità')
plt.xlabel('Nazionalità')
plt.ylabel('Popolarità media')

plt.show()





sns.set_style("whitegrid")

plt.figure(figsize=(12, 8))
plt.scatter(international_artists_data_frame['Popolarità'], international_artists_data_frame['Followers'], alpha=0.5)
plt.axvline(x=70, color='r', linestyle='--', label='Punto di inflessione')

plt.xlabel('Popolarità')
plt.ylabel('Followers')
plt.title('Scatter Plot: Popolarità vs Followers')
plt.legend()

plt.show()





file_path = 'most_streamed.csv'
most_streamed_data_frame = pd.read_csv(file_path, encoding='latin1')

most_streamed_data_frame


most_streamed_data_frame.describe()





import warnings

warnings.filterwarnings("ignore")
sns.set_style("whitegrid")

plt.figure(figsize=(16, 8))
sns.histplot(data=most_streamed_data_frame, x='danceability_%', bins=30, hue='streams', multiple='stack', palette='viridis', legend=False)
plt.title('Distribuzione di danceability_%')
plt.xlabel('Danceability percentuale del brano')
plt.ylabel('Numero di stream')

plt.show()





most_streamed_data_frame[most_streamed_data_frame['danceability_%'] >= 80]






