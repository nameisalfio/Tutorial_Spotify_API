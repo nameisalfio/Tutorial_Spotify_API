{
 "cells": [
  {
   "cell_type": "markdown",
   "id": "1d8c1812-c375-42e8-acc2-1d0bb21ff9ec",
   "metadata": {},
   "source": [
    "<div style=\"display: flex; align-items: center;\">\n",
    "    <img src=\"static/logo.png\" width=\"120\" height=\"120\">\n",
    "    <h1>Spotify Web API Tutorial</h1>\n",
    "</div>\n",
    "\n",
    "<p>\n",
    "    The Spotify Web API allows the creation of applications that can interact with Spotify's streaming service, such as retrieving metadata about content, getting recommendations, creating and managing playlists, or controlling playback.\n",
    "</p>\n",
    "\n",
    "<h2>Table of Contents</h2>\n",
    "<ol>\n",
    "    <li><a href=\"#preamble\">Preamble</a></li>\n",
    "    <li><a href=\"#introduction\">Introduction</a></li>\n",
    "    <li><a href=\"#profile-and-application\">Profile and Application</a></li>\n",
    "    <li><a href=\"#api-access\">API Access</a></li>\n",
    "    <li><a href=\"#using-restful-apis\">Using RESTful APIs</a></li>\n",
    "    <li><a href=\"#spotify-python-api\">Spotify Python API</a></li>\n",
    "    <li><a href=\"#data-extraction-and-analysis\">Data Extraction and Analysis</a></li>\n",
    "    <li><a href=\"#conclusion\">Conclusion</a></li>\n",
    "</ol>"
   ]
  },
  {
   "cell_type": "markdown",
   "id": "66410641-c739-453f-9923-639b824d1ced",
   "metadata": {},
   "source": [
    "<section id=\"preamble\">\n",
    "    <h2>1. Preamble</h2>\n",
    "    <h3>Creating a Virtual Environment</h3>\n",
    "</section>"
   ]
  },
  {
   "cell_type": "markdown",
   "id": "9120ffa5-7a32-4ddb-b73b-b02d47cab1ec",
   "metadata": {},
   "source": [
    "<p>\n",
    "    Before you begin, it's advisable to create a virtual environment for your project.\n",
    "    You can do this using either `virtualenv` or `conda`, depending on your preference. Here is an example using `conda`:\n",
    "</p>\n",
    "\n",
    "<ul>\n",
    "    <li>Ensure you have `conda` installed. If not, you can install Miniconda or Anaconda from their respective websites.</li>\n",
    "    <li>Open your terminal and create a new conda environment by running the following command:</li>\n",
    "</ul>"
   ]
  },
  {
   "cell_type": "markdown",
   "id": "9a8f3b9f-4ee6-4feb-aae0-b58634f2a49c",
   "metadata": {},
   "source": [
    "<code>conda create --name myenv python=3.9</code>"
   ]
  },
  {
   "cell_type": "markdown",
   "id": "27389a7d-2fac-4512-be1a-48e8a2d732bc",
   "metadata": {},
   "source": [
    "<ul>\n",
    "    <li>Activate the environment:</li>\n",
    "</ul>"
   ]
  },
  {
   "cell_type": "markdown",
   "id": "dcdbb4dd-7634-46cb-b438-d52a9526aa23",
   "metadata": {},
   "source": [
    "<code>conda activate myenv</code>"
   ]
  },
  {
   "cell_type": "markdown",
   "id": "d60dcc51-d7ac-4323-89b1-9c24cbdf1c81",
   "metadata": {},
   "source": [
    "<ul>\n",
    "    <li>Deactivate the environment:</li>\n",
    "</ul>"
   ]
  },
  {
   "cell_type": "markdown",
   "id": "71beaa92-8fd0-4fbc-b901-84e34e96d0bb",
   "metadata": {},
   "source": [
    "<code>conda deactivate</code>"
   ]
  },
  {
   "cell_type": "markdown",
   "id": "30df2e84-0167-4649-bd7d-1d8e7d0eab88",
   "metadata": {},
   "source": [
    "<p>Replace <span style=\"font-style: italic; font-size: 15px;\"><i>\"myenv\"</i></span> with the name you want to give your virtual environment.</p>"
   ]
  },
  {
   "cell_type": "markdown",
   "id": "b19c2196-a36f-4055-b0fc-20fa8a373860",
   "metadata": {},
   "source": [
    "<div style=\"display: flex; align-items: center;\">\n",
    "    <img src=\"static/Screen/Screen_1.png\" width=\"900\" height=\"600\">\n",
    "</div>"
   ]
  },
  {
   "cell_type": "markdown",
   "id": "2c1b2974-50ee-4f94-9311-2deadeba3435",
   "metadata": {},
   "source": [
    "<section id=\"introduction\">\n",
    "    <h2>2. Introduction</h2>\n",
    "</section>"
   ]
  },
  {
   "cell_type": "markdown",
   "id": "444d6c6c-76fd-4d58-a9d5-00dd23fa4039",
   "metadata": {},
   "source": [
    "<div style=\"display: flex; align-items: center;\">\n",
    "    <h3>Before we start... what is Spotify!? </h3>\n",
    "    <img src=\"static/emoji.png\" width=\"80\" height=\"80\">\n",
    "</div>  \n",
    "Spotify is a <strong>music streaming</strong> platform that offers users a vast catalog of music tracks, podcasts, and more. Founded in 2006 in Sweden, Spotify has quickly gained popularity worldwide as one of the leading music streaming services.\n",
    "\n",
    "Key features of Spotify:\n",
    "- <strong>Music Streaming:</strong> Users can access millions of tracks from artists around the world. The music library is extensive and covers a wide range of genres and styles.\n",
    "\n",
    "- <strong>Personalized Playlists:</strong> Spotify offers advanced recommendation features that create personalized playlists based on users' musical tastes. These playlists include \"Discover Weekly\" and \"Release Radar.\"\n",
    "\n",
    "- <strong>Podcasts:</strong> In addition to music, Spotify hosts a wide range of podcasts on topics ranging from popular culture to science, from politics to technology.\n",
    "\n",
    "- <strong>Offline Mode:</strong> Users can download tracks and podcasts for offline listening, ideal for those who want to enjoy music without an internet connection.\n",
    "\n",
    "- <strong>Social Sharing:</strong> Spotify allows users to share their playlists, favorite tracks, and musical activities on social media platforms, enabling easy and interactive sharing.\n",
    "\n",
    "- <strong>Device Versatility:</strong> Spotify is accessible on a wide range of devices, including computers, smartphones, tablets, smart TVs, gaming consoles, and other streaming devices.\n",
    "\n",
    "#### General Overview of What Spotify APIs Are:\n",
    "\n",
    "The <i><strong>Spotify APIs</strong></i> are tools that allow developers to interact with Spotify's music platform and access various functionalities.<br>\n",
    "These APIs provide a set of <strong>endpoints and methods</strong> that enable developers to retrieve information about tracks, artists, playlists, and much more. Essentially, they represent a bridge connecting the capabilities of the Spotify platform with developers' creative ideas.\n",
    "\n",
    "#### Importance of APIs for Creating Music Apps:<br>\n",
    "The <i><strong>Spotify APIs</strong></i> are essential for creating music apps as they provide developers with access to a vast music catalog without having to build everything from scratch. This not only simplifies the development process but also allows developers to focus on creativity and innovation rather than managing complex music databases. APIs also enable integration of features such as track playback, personalized playlist creation, and more, enhancing the end-user experience.\n",
    "\n",
    "#### Preview of Upcoming Steps:<br>\n",
    "In the upcoming stages of the tutorial, we will explore in detail the various steps necessary to create your music app using the Spotify APIs. We will start with an introduction that lays the foundation, then move on to creating a developer profile and registering your application. Next, we will address the crucial process of accessing the APIs and learn how to use <strong>RESTful calls</strong> to obtain music information.<br>\n",
    "At the heart of the tutorial, we will dive into the practical use of Spotify APIs with Python, opening up a world of creative possibilities.<br>\n",
    "We will continue by exploring data extraction and analysis, and finally conclude our journey with a summary of the skills acquired and inspiration for future explorations.\n"
   ]
  },
  {
   "cell_type": "markdown",
   "id": "fb6638ba-53b6-4c5e-9fcf-67af101d25a4",
   "metadata": {},
   "source": [
    "<section id=\"profile-and-application\">\n",
    "    <h2>3. Profile and Application</h2>\n",
    "</section>"
   ]
  },
  {
   "cell_type": "markdown",
   "id": "beb90079-8c05-44f5-8d85-84fac9365c1e",
   "metadata": {},
   "source": [
    "The following steps will guide you through creating music apps using the API:\n",
    "<div class=\"container\">\n",
    "    <p>Create an app and select \"Web API\" when it asks which APIs you intend to use.</p>\n",
    "    <a href=\"https://developer.spotify.com/documentation/web-api\" target=\"_blank\">\n",
    "        <button style=\"background-color: #1DB954; color: #fff; padding: 10px 15px; border: none; border-radius: 5px; cursor: pointer;\">\n",
    "            Spotify Developer Dashboard\n",
    "        </button>\n",
    "    </a>\n",
    "</div>"
   ]
  },
  {
   "cell_type": "markdown",
   "id": "ddbaf229-3ecc-4800-b297-025a31c169c9",
   "metadata": {},
   "source": [
    "<div style=\"display: flex; align-items: center;\">\n",
    "    <img src=\"static/Screen/Screen_2.png\">\n",
    "</div>"
   ]
  },
  {
   "cell_type": "markdown",
   "id": "2ba049a4-8072-496a-9b34-746a706073ca",
   "metadata": {},
   "source": [
    "- Once the application has been created, it will be available in the Dashboard"
   ]
  },
  {
   "cell_type": "markdown",
   "id": "673d4bb5-27c3-4603-9779-896990c7071b",
   "metadata": {},
   "source": [
    "<div style=\"display: flex; align-items: center;\">\n",
    "    <img src=\"static/Screen/Screen_3.png\">\n",
    "</div>"
   ]
  },
  {
   "cell_type": "markdown",
   "id": "2db759d8-9156-4f6a-b292-d4458191437a",
   "metadata": {},
   "source": [
    "- Once your app is created, you will have access to the app's credentials. These will be required for API authorisation to obtain an access token ."
   ]
  },
  {
   "cell_type": "markdown",
   "id": "8d20fee6-4fc0-4abe-b085-92688558ceb5",
   "metadata": {},
   "source": [
    "<div style=\"display: flex; align-items: center;\">\n",
    "    <img src=\"static/Screen/Screen_4.png\">\n",
    "</div>"
   ]
  },
  {
   "cell_type": "markdown",
   "id": "8896c136-f6c2-4741-873c-9b5ff4b0fa73",
   "metadata": {},
   "source": [
    "- Nella pagina delle impostazioni dell'app, aggiungi una <strong>Redirect URI</strong>. Questo è l'URL a cui Spotify reindirizzerà l'utente dopo l'autenticazione. <br>\n",
    "Puoi utilizzare http://localhost:5000/callback per scopi di sviluppo."
   ]
  },
  {
   "cell_type": "markdown",
   "id": "576ae5fa-103a-4acf-812a-20e70f765de7",
   "metadata": {},
   "source": [
    "<div style=\"display: flex; align-items: center;\">\n",
    "    <img src=\"static/Screen/Screen_5.png\" width=\"1200\" height=\"600\">\n",
    "</div>"
   ]
  },
  {
   "cell_type": "markdown",
   "id": "6f1bce32-8130-4c0f-a45a-7742f586b40c",
   "metadata": {},
   "source": [
    "<section id=\"api-access\">\n",
    "    <h2>4. API Access</h2>\n",
    "</section>"
   ]
  },
  {
   "cell_type": "markdown",
   "id": "389f0584-b87e-4ddf-92a6-bd2e42f0aaec",
   "metadata": {},
   "source": [
    "Spotify APIs are <strong>RESTful APIs</strong>. They follow the REST architectural style, which is based on the concept of resources identified by URIs and manipulated through standard HTTP methods such as GET, POST, PUT, DELETE, etc.\n",
    "\n",
    "The process for obtaining an access token from Spotify involves making a POST request to the endpoint https://accounts.spotify.com/api/token.\n",
    "\n",
    "In the case of Spotify's REST APIs, the request we discussed earlier to obtain the access token uses the POST method to send data to Spotify's authorization server. Authentication parameters (client ID and client secret) are included in the request header, while specific details of the request, such as the grant type, are included in the request body.\n",
    "\n",
    "### OAuth 2.0 Authorization Flow:\n",
    "\n",
    "- **Client Registration:**<br>The client registers with the Authorization Server, obtaining a client ID and a client secret.\n",
    "\n",
    "- **User Redirection:**<br>The client redirects the user to the Authorization Server for authentication. In this step, the client can specify the type of access requested (e.g., read or write).\n",
    "\n",
    "- **Authorization Grant:**<br>The user grants authorization to the application.\n",
    "\n",
    "- **Receiving the Authorization Code:**<br>The Authorization Server redirects the user back to the client with an authorization code.\n",
    "\n",
    "- **Exchanging the Code for an Access Token:**<br>The client sends the authorization code to the Authorization Server to obtain the Access Token.\n",
    "\n",
    "- **Using the Access Token:**<br>The client uses the Access Token to access protected resources at the Resource Server.\n",
    "\n",
    "- **HTTP Request for the Access Token:**<br>A POST request to the Authorization Server's endpoint is involved in the token exchange phase to obtain the Access Token.\n"
   ]
  },
  {
   "cell_type": "markdown",
   "id": "d7efc9c7-0624-41a7-8823-159c768554c8",
   "metadata": {},
   "source": [
    "<div style=\"display: flex; align-items: center;\">\n",
    "    <img src=\"static/Screen/Screen_6.png\">\n",
    "</div>"
   ]
  },
  {
   "cell_type": "markdown",
   "id": "7b8fab95-5c82-41cd-be36-6ae0c82fe275",
   "metadata": {},
   "source": [
    "<p>Let's write a <strong>Python</strong> function that can be used to obtain a valid access token, which will then be used to <strong>authenticate requests to Spotify's APIs</strong>.</p>"
   ]
  },
  {
   "cell_type": "code",
   "execution_count": 1,
   "id": "9a6220bd-a39f-4399-9dda-8cc4b11f8e64",
   "metadata": {},
   "outputs": [],
   "source": [
    "import requests\n",
    "import base64\n",
    "\n",
    "def get_spotify_access_token(client_id, client_secret):\n",
    "    url = 'https://accounts.spotify.com/api/token'\n",
    "    headers = {\n",
    "        'Authorization': 'Basic ' + base64.b64encode(f'{client_id}:{client_secret}'.encode()).decode()\n",
    "    }\n",
    "    data = {\n",
    "        'grant_type': 'client_credentials'\n",
    "    }\n",
    "    \n",
    "    try:\n",
    "        response = requests.post(url, headers=headers, data=data)\n",
    "        response.raise_for_status()  # Raises an exception for HTTP request errors\n",
    "        token_data = response.json()\n",
    "        \n",
    "        if 'access_token' in token_data:\n",
    "            return token_data['access_token']\n",
    "        else:\n",
    "            raise Exception(f\"Error obtaining access token: {token_data.get('error', 'Unknown error')}\")\n",
    "            \n",
    "    except requests.exceptions.RequestException as e:\n",
    "        raise Exception(f\"HTTP request error: {e}\")"
   ]
  },
  {
   "cell_type": "code",
   "execution_count": 3,
   "id": "d19698fe-8c7c-4624-a4ff-2a09602f5716",
   "metadata": {},
   "outputs": [
    {
     "name": "stdout",
     "output_type": "stream",
     "text": [
      "Client ID: None\n",
      "Client secret: None\n"
     ]
    },
    {
     "ename": "Exception",
     "evalue": "HTTP request error: 400 Client Error: Bad Request for url: https://accounts.spotify.com/api/token",
     "output_type": "error",
     "traceback": [
      "\u001b[0;31m---------------------------------------------------------------------------\u001b[0m",
      "\u001b[0;31mHTTPError\u001b[0m                                 Traceback (most recent call last)",
      "Cell \u001b[0;32mIn[1], line 15\u001b[0m, in \u001b[0;36mget_spotify_access_token\u001b[0;34m(client_id, client_secret)\u001b[0m\n\u001b[1;32m     14\u001b[0m response \u001b[38;5;241m=\u001b[39m requests\u001b[38;5;241m.\u001b[39mpost(url, headers\u001b[38;5;241m=\u001b[39mheaders, data\u001b[38;5;241m=\u001b[39mdata)\n\u001b[0;32m---> 15\u001b[0m \u001b[43mresponse\u001b[49m\u001b[38;5;241;43m.\u001b[39;49m\u001b[43mraise_for_status\u001b[49m\u001b[43m(\u001b[49m\u001b[43m)\u001b[49m  \u001b[38;5;66;03m# Raises an exception for HTTP request errors\u001b[39;00m\n\u001b[1;32m     16\u001b[0m token_data \u001b[38;5;241m=\u001b[39m response\u001b[38;5;241m.\u001b[39mjson()\n",
      "File \u001b[0;32m~/miniconda3/envs/smda/lib/python3.9/site-packages/requests/models.py:1024\u001b[0m, in \u001b[0;36mResponse.raise_for_status\u001b[0;34m(self)\u001b[0m\n\u001b[1;32m   1023\u001b[0m \u001b[38;5;28;01mif\u001b[39;00m http_error_msg:\n\u001b[0;32m-> 1024\u001b[0m     \u001b[38;5;28;01mraise\u001b[39;00m HTTPError(http_error_msg, response\u001b[38;5;241m=\u001b[39m\u001b[38;5;28mself\u001b[39m)\n",
      "\u001b[0;31mHTTPError\u001b[0m: 400 Client Error: Bad Request for url: https://accounts.spotify.com/api/token",
      "\nDuring handling of the above exception, another exception occurred:\n",
      "\u001b[0;31mException\u001b[0m                                 Traceback (most recent call last)",
      "Cell \u001b[0;32mIn[3], line 12\u001b[0m\n\u001b[1;32m      9\u001b[0m \u001b[38;5;28mprint\u001b[39m(\u001b[38;5;124mf\u001b[39m\u001b[38;5;124m\"\u001b[39m\u001b[38;5;124mClient ID: \u001b[39m\u001b[38;5;132;01m{\u001b[39;00mclient_id\u001b[38;5;132;01m}\u001b[39;00m\u001b[38;5;124m\"\u001b[39m)\n\u001b[1;32m     10\u001b[0m \u001b[38;5;28mprint\u001b[39m(\u001b[38;5;124mf\u001b[39m\u001b[38;5;124m\"\u001b[39m\u001b[38;5;124mClient secret: \u001b[39m\u001b[38;5;132;01m{\u001b[39;00mclient_secret\u001b[38;5;132;01m}\u001b[39;00m\u001b[38;5;124m\"\u001b[39m)\n\u001b[0;32m---> 12\u001b[0m access_token \u001b[38;5;241m=\u001b[39m \u001b[43mget_spotify_access_token\u001b[49m\u001b[43m(\u001b[49m\u001b[43mclient_id\u001b[49m\u001b[43m,\u001b[49m\u001b[43m \u001b[49m\u001b[43mclient_secret\u001b[49m\u001b[43m)\u001b[49m \u001b[38;5;66;03m# obtain the access token\u001b[39;00m\n\u001b[1;32m     13\u001b[0m \u001b[38;5;28mprint\u001b[39m(\u001b[38;5;124mf\u001b[39m\u001b[38;5;124m\"\u001b[39m\u001b[38;5;124mAccess token: \u001b[39m\u001b[38;5;132;01m{\u001b[39;00maccess_token\u001b[38;5;132;01m}\u001b[39;00m\u001b[38;5;124m\"\u001b[39m)\n",
      "Cell \u001b[0;32mIn[1], line 24\u001b[0m, in \u001b[0;36mget_spotify_access_token\u001b[0;34m(client_id, client_secret)\u001b[0m\n\u001b[1;32m     21\u001b[0m         \u001b[38;5;28;01mraise\u001b[39;00m \u001b[38;5;167;01mException\u001b[39;00m(\u001b[38;5;124mf\u001b[39m\u001b[38;5;124m\"\u001b[39m\u001b[38;5;124mError obtaining access token: \u001b[39m\u001b[38;5;132;01m{\u001b[39;00mtoken_data\u001b[38;5;241m.\u001b[39mget(\u001b[38;5;124m'\u001b[39m\u001b[38;5;124merror\u001b[39m\u001b[38;5;124m'\u001b[39m,\u001b[38;5;250m \u001b[39m\u001b[38;5;124m'\u001b[39m\u001b[38;5;124mUnknown error\u001b[39m\u001b[38;5;124m'\u001b[39m)\u001b[38;5;132;01m}\u001b[39;00m\u001b[38;5;124m\"\u001b[39m)\n\u001b[1;32m     23\u001b[0m \u001b[38;5;28;01mexcept\u001b[39;00m requests\u001b[38;5;241m.\u001b[39mexceptions\u001b[38;5;241m.\u001b[39mRequestException \u001b[38;5;28;01mas\u001b[39;00m e:\n\u001b[0;32m---> 24\u001b[0m     \u001b[38;5;28;01mraise\u001b[39;00m \u001b[38;5;167;01mException\u001b[39;00m(\u001b[38;5;124mf\u001b[39m\u001b[38;5;124m\"\u001b[39m\u001b[38;5;124mHTTP request error: \u001b[39m\u001b[38;5;132;01m{\u001b[39;00me\u001b[38;5;132;01m}\u001b[39;00m\u001b[38;5;124m\"\u001b[39m)\n",
      "\u001b[0;31mException\u001b[0m: HTTP request error: 400 Client Error: Bad Request for url: https://accounts.spotify.com/api/token"
     ]
    }
   ],
   "source": [
    "from dotenv import load_dotenv\n",
    "import os\n",
    "\n",
    "load_dotenv()\n",
    "\n",
    "client_id = os.getenv('CLIENT_ID')\n",
    "client_secret = os.getenv('CLIENT_SECRET')\n",
    "\n",
    "access_token = get_spotify_access_token(client_id, client_secret) # obtain the access token\n",
    "print(f\"Access token: {access_token}\")"
   ]
  },
  {
   "cell_type": "markdown",
   "id": "cfaa8bd7-83c1-4348-8cf8-cd127829a677",
   "metadata": {},
   "source": [
    "Now let's verify that the access token was obtained correctly."
   ]
  },
  {
   "cell_type": "markdown",
   "id": "214a537d-cd9d-4862-b7cd-146fa1d63601",
   "metadata": {},
   "source": [
    "<section id=\"using-restful-apis\">\n",
    "    <h2>5. Using RESTful APIs</h2>\n",
    "</section>"
   ]
  },
  {
   "cell_type": "markdown",
   "id": "af224b66-f70f-442d-98fd-8547174954eb",
   "metadata": {},
   "source": [
    "Once you have acquired the access token, you are ready to authenticate and authorize requests to the APIs. Probably the first thing you might want to do with such an API is to search for a specific artist on Spotify to obtain all their information:\n",
    "\n",
    "- Name\n",
    "- ID\n",
    "- Genre\n",
    "- Popularity\n",
    "- Followers\n",
    "- Spotify URL\n",
    "- Profile image"
   ]
  },
  {
   "cell_type": "code",
   "execution_count": 8,
   "id": "c4218ba3-a79b-4ec5-bcce-6f399dc694ce",
   "metadata": {},
   "outputs": [],
   "source": [
    "import requests\n",
    "\n",
    "def search_artist(token, artist_name):\n",
    "    url = \"https://api.spotify.com/v1/search\"\n",
    "    headers = {\n",
    "        \"Authorization\": f\"Bearer {token}\"\n",
    "    }\n",
    "    params = {\n",
    "        \"q\": artist_name,\n",
    "        \"type\": \"artist\",\n",
    "        \"limit\": 1\n",
    "    }\n",
    "    \n",
    "    try:\n",
    "        response = requests.get(url, headers=headers, params=params)\n",
    "        response.raise_for_status()  # Raises an exception for HTTP request errors\n",
    "        data = response.json()\n",
    "        artists = data.get(\"artists\", {}).get(\"items\", [])\n",
    "        \n",
    "        if artists:\n",
    "            return artists[0]\n",
    "        else:\n",
    "            print(f\"No artist found with the name '{artist_name}'.\")\n",
    "            return None\n",
    "            \n",
    "    except requests.exceptions.RequestException as e:\n",
    "        print(f\"HTTP request error: {e}\")\n",
    "        return None"
   ]
  },
  {
   "cell_type": "markdown",
   "id": "bb0bc04c-3f0c-4186-898e-aefe5747dfe8",
   "metadata": {},
   "source": [
    "<p>It can be useful to write auxiliary functions to:</p>\n",
    "<ul>\n",
    "    <li>Extract the Spotify link from the entity's <strong>\"external_urls\"</strong> dictionary;</li>\n",
    "    <li>Make it accessible via a simple click to redirect to the page specified by the URL;</li>\n",
    "    <li>Display various images from their URLs;</li>\n",
    "    <li>Convert the durations (in ms) of tracks to minutes;</li>\n",
    "    <li>Provide a function to make URLs in the global dataframe clickable;</li>\n",
    "</ul>"
   ]
  },
  {
   "cell_type": "code",
   "execution_count": 16,
   "id": "de383bde-fce4-4976-9a02-c4b6fb3193c9",
   "metadata": {},
   "outputs": [],
   "source": [
    "from bs4 import BeautifulSoup\n",
    "\n",
    "def extract_spotify_url(external_urls):\n",
    "    return artist.get(\"external_urls\", {}).get(\"spotify\")\n",
    "    \n",
    "def make_clickable(link):\n",
    "    return f'<a href=\"{link}\" target=\"_blank\">{link}</a>'\n",
    "\n",
    "def display_image(image_url):\n",
    "    return f'<img src=\"{image_url}\" alt=\"Cover Image\" style=\"max-height: 80px; max-width: 80px;\">'\n",
    "\n",
    "def convert_duration(duration_ms):\n",
    "    duration_minutes = duration_ms / 60000\n",
    "    return round(duration_minutes, 2)\n",
    "\n",
    "def extract_href(html):\n",
    "    soup = BeautifulSoup(html, 'html.parser', markupResemblesLocator=False)\n",
    "    return soup.a['href']"
   ]
  },
  {
   "cell_type": "code",
   "execution_count": 18,
   "id": "119d2cb2-7b32-4aaa-a017-efdb311c2a5b",
   "metadata": {},
   "outputs": [
    {
     "name": "stdout",
     "output_type": "stream",
     "text": [
      "Artist found: Emis Killa (ID: 6FtwCmLY6L1sqvjaQ2lV6G)\n",
      "\n"
     ]
    },
    {
     "data": {
      "text/html": [
       "<table border=\"1\" class=\"dataframe\">\n",
       "  <thead>\n",
       "    <tr style=\"text-align: right;\">\n",
       "      <th></th>\n",
       "      <th>Name</th>\n",
       "      <th>ID</th>\n",
       "      <th>Genre</th>\n",
       "      <th>Popularity</th>\n",
       "      <th>Followers</th>\n",
       "      <th>Spotify URL</th>\n",
       "      <th>Image</th>\n",
       "    </tr>\n",
       "  </thead>\n",
       "  <tbody>\n",
       "    <tr>\n",
       "      <th>0</th>\n",
       "      <td>Emis Killa</td>\n",
       "      <td>6FtwCmLY6L1sqvjaQ2lV6G</td>\n",
       "      <td>italian hip hop</td>\n",
       "      <td>68</td>\n",
       "      <td>1584871</td>\n",
       "      <td><a href=\"https://open.spotify.com/artist/6FtwCmLY6L1sqvjaQ2lV6G\" target=\"_blank\">https://open.spotify.com/artist/6FtwCmLY6L1sqvjaQ2lV6G</a></td>\n",
       "      <td><img src=\"https://i.scdn.co/image/ab6761610000e5eb1f22144b6825d322cbe4d059\" alt=\"Cover Image\" style=\"max-height: 80px; max-width: 80px;\"></td>\n",
       "    </tr>\n",
       "  </tbody>\n",
       "</table>"
      ],
      "text/plain": [
       "<IPython.core.display.HTML object>"
      ]
     },
     "metadata": {},
     "output_type": "display_data"
    }
   ],
   "source": [
    "import pandas as pd\n",
    "from IPython.display import Image, display, HTML\n",
    "\n",
    "# Example artist name\n",
    "artist_name = \"Emis Killa\" \n",
    "artist = search_artist(access_token, artist_name)  # Obtain the artist\n",
    "\n",
    "# Prepare artist data\n",
    "artist_data = {\n",
    "    \"Name\": artist[\"name\"],\n",
    "    \"ID\": artist[\"id\"],\n",
    "    \"Genre\": artist[\"genres\"][0] if artist[\"genres\"] else \"Unknown\",\n",
    "    \"Popularity\": artist[\"popularity\"],\n",
    "    \"Followers\": artist[\"followers\"][\"total\"],\n",
    "    \"Spotify URL\": extract_spotify_url(artist),\n",
    "    \"Image\": artist[\"images\"][0][\"url\"] if artist[\"images\"] else \"No Image\"\n",
    "}\n",
    "\n",
    "# Create a DataFrame\n",
    "artist_data_frame = pd.DataFrame([artist_data])\n",
    "\n",
    "# Apply auxiliary functions\n",
    "artist_data_frame['Spotify URL'] = artist_data_frame['Spotify URL'].apply(make_clickable)\n",
    "artist_data_frame['Image'] = artist_data_frame['Image'].apply(display_image)\n",
    "\n",
    "# Print artist information\n",
    "print(f\"Artist found: {artist_name} (ID: {artist_data['ID']})\\n\") \n",
    "\n",
    "# Display the DataFrame with clickable links and images\n",
    "display(HTML(artist_data_frame.to_html(escape=False)))"
   ]
  },
  {
   "cell_type": "markdown",
   "id": "3d6bbb52-f3c0-4bf3-96c9-1da1b368f5d1",
   "metadata": {},
   "source": [
    "In the following sections, we will delve into the use of data structures in Python, in particular Pandas DataFrames, for a detailed analysis of Spotify content.\n",
    "\n",
    "We will use these powerful data structures to:\n",
    "\n",
    "- Extract detailed data on tracks, artists and albums.\n",
    "- Manipulate information in advanced ways.\n",
    "- Visualise trends and relationships in Spotify information in a clear and understandable way.\n",
    "\n",
    "We will start by analysing the artists' top charts, then explore the characteristics of the most popular tracks, obtain album details and present user listening statistics. We will exploit the full potential of the Python libraries and Spotify's API for a comprehensive and informative analysis.We will now verify the correct obtaining of the Access Token."
   ]
  },
  {
   "cell_type": "code",
   "execution_count": null,
   "id": "7abb0ad2",
   "metadata": {},
   "outputs": [],
   "source": [
    "STOP"
   ]
  },
  {
   "cell_type": "markdown",
   "id": "771b1ab6-2ca6-4992-acaa-e573861824be",
   "metadata": {},
   "source": [
    "<section id=\"spotify-python-api\">\n",
    "    <h2>6. API Spotify Python</h2>\n",
    "</section>"
   ]
  },
  {
   "cell_type": "markdown",
   "id": "26f4d3c6-005b-4dd7-af2b-54f8e944c8c8",
   "metadata": {},
   "source": [
    "Risulta interessante anche chiedersi quali sono gli album dell'artista appena trovato. Anche questo può essere facilmente ottenuto grazzie all'uso delle API di Spotify, a partire dall'id dell'artista. In particolare prenderemo le informazioni rigurdanti :\n",
    "\n",
    "- Nome\n",
    "- ID\n",
    "- Data di uscita\n",
    "- Numero totale di tracce\n",
    "- Immagine di copertina\n",
    "- URL di Spotify "
   ]
  },
  {
   "cell_type": "code",
   "execution_count": null,
   "id": "ef27b66e-9da5-472f-b22c-9f5e12cfe891",
   "metadata": {},
   "outputs": [],
   "source": [
    "def get_albums(token, artist_id):\n",
    "    url = f'https://api.spotify.com/v1/artists/{artist_id}/albums'\n",
    "    \n",
    "    headers = {\n",
    "        \"Authorization\": f\"Bearer {token}\"\n",
    "    }\n",
    "    params = {\n",
    "        \"market\": \"IT\"\n",
    "    }\n",
    "\n",
    "    try:\n",
    "        response = requests.get(url, headers=headers, params=params)\n",
    "        response.raise_for_status()  # Solleva un'eccezione se la richiesta HTTP non ha successo\n",
    "        data = response.json()\n",
    "        \n",
    "        return data.get(\"items\", [])\n",
    "        \n",
    "    except requests.exceptions.RequestException as e:\n",
    "        print(f\"Errore nella richiesta HTTP: {e}\")\n",
    "        return []"
   ]
  },
  {
   "cell_type": "code",
   "execution_count": null,
   "id": "45049817-b7a6-466a-a803-257f92ce00cf",
   "metadata": {},
   "outputs": [],
   "source": [
    "artist_albums = get_albums(access_token, artist[\"id\"])\n",
    "album_data_frame = pd.DataFrame(artist_albums, columns=['name', 'id', 'release_date', 'total_tracks', 'images', 'external_urls'])\n",
    "\n",
    "# Rinomina le colonne per chiarezza\n",
    "album_data_frame = album_data_frame.rename(columns={'name': 'Titolo', 'id': 'ID', 'release_date': 'Data di uscita', 'total_tracks': 'No. Tracce', 'images': 'Copertina', 'external_urls': 'Spotify URL'})\n",
    "\n",
    "# Visualizza l'immagine dell'album\n",
    "album_data_frame['Copertina'] = album_data_frame['Copertina'].apply(lambda x: display_image(x[0][\"url\"]))\n",
    "\n",
    "# Filtra gli album con un numero diverso da 1 di tracce\n",
    "album_data_frame = album_data_frame[album_data_frame[\"No. Tracce\"] != 1]\n",
    "\n",
    "# Rendi cliccabili gli URL di Spotify\n",
    "album_data_frame['Spotify URL'] = album_data_frame['Spotify URL'].apply(extract_spotify_url)\n",
    "album_data_frame['Spotify URL'] = album_data_frame['Spotify URL'].apply(make_clickable)\n",
    "\n",
    "print(f\"Gli album dell'artista {artist_name} sono:\\n\")\n",
    "display(HTML(album_data_frame.to_html(escape=False)))"
   ]
  },
  {
   "cell_type": "markdown",
   "id": "5535811a-5692-4b4f-ae50-67ee5e887524",
   "metadata": {},
   "source": [
    "Adesso che abbiamo ottenuto la discografia dell'artista, possiamo esaminare anche il contenuto dei suoi album.<br>\n",
    "Possiamo esaminare un album in particolare specificandone l'ID ma risulta pià interessante esaminare l'intera discografia dell'artista.\n",
    "\n",
    "Per ogni brano in particolare siamo interessati a :\n",
    "\n",
    "- Titolo\n",
    "- ID\n",
    "- Data di uscita\n",
    "- Numero totale di tracce\n",
    "- Immagine di copertina\n",
    "- Spotify URL"
   ]
  },
  {
   "cell_type": "code",
   "execution_count": null,
   "id": "51696d3c-cb78-4aec-bf4e-2cddd5b109a9",
   "metadata": {},
   "outputs": [],
   "source": [
    "def get_album_tracks(token, album_id):\n",
    "    url = f'https://api.spotify.com/v1/albums/{album_id}/tracks'\n",
    "    \n",
    "    headers = {\n",
    "        \"Authorization\": f\"Bearer {token}\"\n",
    "    }\n",
    "    params = {\n",
    "        \"market\": \"IT\"\n",
    "    }\n",
    "\n",
    "    try:\n",
    "        response = requests.get(url, headers=headers, params=params)\n",
    "        response.raise_for_status()  # Solleva un'eccezione se la richiesta HTTP non ha successo\n",
    "        data = response.json()\n",
    "        \n",
    "        return data.get(\"items\", [])\n",
    "        \n",
    "    except requests.exceptions.RequestException as e:\n",
    "        print(f\"Errore nella richiesta HTTP: {e}\")\n",
    "        return []"
   ]
  },
  {
   "cell_type": "code",
   "execution_count": null,
   "id": "a40b1d45-9ade-4689-bcc5-93e74289a580",
   "metadata": {},
   "outputs": [],
   "source": [
    "album_name = \"Effetto notte\"  \n",
    "album_id = album_data_frame.loc[album_data_frame['Titolo'] == album_name, 'ID'].values[0]\n",
    "\n",
    "album_tracks = get_album_tracks(access_token, album_id)\n",
    "album_track_data_frame = pd.DataFrame(album_tracks, columns=['name','id','duration_ms','external_urls', 'uri'])\n",
    "album_track_data_frame = album_track_data_frame.rename(columns={'name': 'Titolo', 'id': 'ID', 'duration_ms': 'Durata', 'external_urls': 'Spotify URL', 'uri': 'URI'})\n",
    "\n",
    "album_track_data_frame['Durata'] = album_track_data_frame['Durata'].apply(convert_duration)\n",
    "album_track_data_frame['Spotify URL'] = album_track_data_frame['Spotify URL'].apply(extract_spotify_url)\n",
    "album_track_data_frame['Spotify URL'] = album_track_data_frame['Spotify URL'].apply(make_clickable)\n",
    "album_track_data_frame['URI'] = album_track_data_frame['URI'].apply(lambda uri: uri.split(':')[-1])\n",
    "\n",
    "print(f\"Le tracce dell'album {album_name} sono:\\n\")\n",
    "display(HTML(album_track_data_frame.to_html(escape=False)))"
   ]
  },
  {
   "cell_type": "markdown",
   "id": "a3e2d6bd-3a5d-4798-af91-bbdd12615e3d",
   "metadata": {},
   "source": [
    "#### Si nota che durante l'iterazione su ogni brano di ogni album, viene inserita ogni traccia in un dataframe complessivo.\n",
    "#### Questo ci sarà utile quando faremo statistiche nella <strong>sezione 7 del tutorial</strong>."
   ]
  },
  {
   "cell_type": "code",
   "execution_count": null,
   "id": "08a1e8fe-ec87-4d41-bb62-4783830f7308",
   "metadata": {},
   "outputs": [],
   "source": [
    "# Creazione del DataFrame complessivo utile per la sezione 7 del tutorial\n",
    "discography_data_frames_list = []\n",
    "\n",
    "for index, row in album_data_frame.iterrows():\n",
    "    album_name = row['Titolo']\n",
    "    album_id = row['ID']\n",
    "\n",
    "    album_tracks = get_album_tracks(access_token, album_id)\n",
    "\n",
    "    tracks_data_frame = pd.DataFrame(album_tracks, columns=['name', 'id', 'duration_ms','external_urls', 'uri'])\n",
    "    tracks_data_frame = tracks_data_frame.rename(columns={'name': 'Titolo', 'id': 'ID', 'duration_ms': 'Durata', 'external_urls': 'Spotify URL', 'uri': 'URI'})\n",
    "\n",
    "    tracks_data_frame['Durata'] = tracks_data_frame['Durata'].apply(convert_duration)\n",
    "    tracks_data_frame['Spotify URL'] = tracks_data_frame['Spotify URL'].apply(extract_spotify_url)\n",
    "    tracks_data_frame['Spotify URL'] = tracks_data_frame['Spotify URL'].apply(make_clickable)\n",
    "    tracks_data_frame['URI'] = tracks_data_frame['URI'].apply(lambda uri: uri.split(':')[-1])\n",
    "    tracks_data_frame['Album'] = album_name\n",
    "    \n",
    "    discography_data_frames_list.append(tracks_data_frame)\n",
    "\n",
    "    print(f\"\\nLe tracce dell'album \\\"{album_name}\\\" sono:\\n\")\n",
    "    display(HTML(tracks_data_frame.to_html(escape=False)))\n",
    "    print('=' * 138)\n",
    "\n",
    "discography_data_frame = pd.concat(discography_data_frames_list, ignore_index=True)\n",
    "discography_data_frame['Spotify URL'] = discography_data_frame['Spotify URL'].apply(extract_href)\n",
    "discography_data_frame['Spotify URL'] = discography_data_frame['Spotify URL'].apply(make_clickable)"
   ]
  },
  {
   "cell_type": "markdown",
   "id": "e6ebc1ed-12fd-414a-8d7d-ef05876e70c0",
   "metadata": {},
   "source": [
    "- Si può anche visualizzare il dataframe globale e salvare in un apposito file csv:"
   ]
  },
  {
   "cell_type": "code",
   "execution_count": null,
   "id": "335cb64e-0bbc-47a6-9210-f26b147fdcdb",
   "metadata": {},
   "outputs": [],
   "source": [
    "print(\"\\nDataFrame complessivo delle tracce:\")\n",
    "display(HTML(discography_data_frame.to_html(escape=False)))\n",
    "discography_data_frame.to_csv('discography_data.csv', index=False)"
   ]
  },
  {
   "cell_type": "markdown",
   "id": "1be6d9aa-7344-4baf-b0a4-4043ae7d19e6",
   "metadata": {},
   "source": [
    "Un'altra interessante funzionalità che possiamo sfruttare è quella di ottenere la top 10 dei brani di un artista arbitrario.<br>\n",
    "In particolare siamo interessati ai seguenti campi:\n",
    "- Titolo\n",
    "- ID\n",
    "- Popolarità\n",
    "- Durata\n",
    "- Data di rilascio\n",
    "- Album\n",
    "- Spotify URL"
   ]
  },
  {
   "cell_type": "code",
   "execution_count": null,
   "id": "e13273e3-6729-4c7d-a24c-825f258a4035",
   "metadata": {},
   "outputs": [],
   "source": [
    "def get_top_tracks_artist(token, artist_id):\n",
    "    url = f\"https://api.spotify.com/v1/artists/{artist_id}/top-tracks?country=IT\"\n",
    "    headers = {\n",
    "        \"Authorization\": f\"Bearer {token}\"\n",
    "    }\n",
    "    \n",
    "    try:\n",
    "        response = requests.get(url, headers=headers)\n",
    "        response.raise_for_status()  \n",
    "        data = response.json()[\"tracks\"]\n",
    "        return data\n",
    "        \n",
    "    except requests.exceptions.RequestException as e:\n",
    "        print(f\"Errore nella richiesta HTTP: {e}\")\n",
    "        return None"
   ]
  },
  {
   "cell_type": "code",
   "execution_count": null,
   "id": "14d33bc5-9526-4b9c-aecd-c44b98166924",
   "metadata": {},
   "outputs": [],
   "source": [
    "top_tracks = get_top_tracks_artist(access_token, artist_data['ID'])\n",
    "\n",
    "top_tracks_data_frame = pd.DataFrame([{\n",
    "    'Titolo': track['name'],\n",
    "    'ID': track['id'],\n",
    "    'Popolarità': track['popularity'],\n",
    "    'Durata': convert_duration(track['duration_ms']),\n",
    "    'Data di rilascio': track['album']['release_date'],\n",
    "    'Album' : track[\"album\"][\"name\"],\n",
    "    'Spotify URL': track['external_urls']['spotify']\n",
    "} for track in top_tracks])\n",
    "top_tracks_data_frame['Spotify URL'] = top_tracks_data_frame['Spotify URL'].apply(make_clickable)\n",
    "\n",
    "print(f\"Top Tracks dell'artista {artist_name} :\\n\")\n",
    "display(HTML(top_tracks_data_frame.to_html(escape=False)))"
   ]
  },
  {
   "cell_type": "markdown",
   "id": "5c33b3e2-1e0b-4c10-a630-6ef63f3b7f8d",
   "metadata": {},
   "source": [
    "Possiamo usare le API REST di Spotify per ottenere anche informazioni sugli artisti correlati ad un artista in particolare"
   ]
  },
  {
   "cell_type": "code",
   "execution_count": null,
   "id": "ba9c8c3b-0a52-46cc-a2e1-47945bedc5f3",
   "metadata": {},
   "outputs": [],
   "source": [
    "def get_artist_related(token, id):\n",
    "    url = f\"https://api.spotify.com/v1/artists/{id}/related-artists\"\n",
    "    headers = {\n",
    "        \"Authorization\": f\"Bearer {token}\"\n",
    "    }\n",
    "\n",
    "    try:\n",
    "        response = requests.get(url, headers=headers)\n",
    "        response.raise_for_status() \n",
    "        data = response.json()[\"artists\"]\n",
    "        return data\n",
    "    except requests.exceptions.RequestException as e:\n",
    "        print(f\"Errore nella richiesta HTTP: {e}\")\n",
    "        return None"
   ]
  },
  {
   "cell_type": "code",
   "execution_count": null,
   "id": "758b1727-1919-42cb-928b-8c810244f407",
   "metadata": {},
   "outputs": [],
   "source": [
    "artists = get_artist_related(access_token, artist_data['ID'])\n",
    "\n",
    "artists_data = pd.DataFrame([{\n",
    "    'Nome' : artist[\"name\"],\n",
    "    'ID': artist['id'],\n",
    "    'Genere': artist['genres'][0],\n",
    "    'Popolarità': artist['popularity'],\n",
    "    'Followers' : artist[\"followers\"][\"total\"],\n",
    "    'Spotify URL': artist['external_urls']['spotify'],\n",
    "    \"Immagine\": artist[\"images\"][0][\"url\"]\n",
    "} for artist in artists])\n",
    "\n",
    "artists_data_frame = pd.DataFrame(artists_data)\n",
    "artists_data_frame['Spotify URL'] = artists_data_frame['Spotify URL'].apply(make_clickable)\n",
    "artists_data_frame['Immagine'] = artists_data_frame['Immagine'].apply(display_image)\n",
    "artists_data_frame = artists_data_frame.sort_values(by='Followers',ascending=False)\n",
    "artists_data_frame = artists_data_frame.reset_index(drop=True)\n",
    "\n",
    "print(f'Artisti correlati:\\n')\n",
    "display(HTML(artists_data_frame.to_html(escape=False)))"
   ]
  },
  {
   "cell_type": "markdown",
   "id": "b01197df-421f-4d28-b859-dae9cf788ff6",
   "metadata": {},
   "source": [
    "Utilizzando gli <strong>ID</strong> delle singole canzoni, è possibile recuperare integralmente i dettagli di ciascun brano.<br>\n",
    "Siamo interessati a :\n",
    "- Titolo\n",
    "- ID\n",
    "- Durata\n",
    "- Data di rilascio\n",
    "- Popolarità\n",
    "- Spotify URL\n",
    "- Titolo dell'album di appartenenza\n",
    "- Copertina dell'album di appartenenza"
   ]
  },
  {
   "cell_type": "code",
   "execution_count": null,
   "id": "0703d501-64c9-4fde-8a3c-4f4a0b63c93f",
   "metadata": {},
   "outputs": [],
   "source": [
    "def get_track_details(access_token, track_id):\n",
    "    url = f'https://api.spotify.com/v1/tracks/{track_id}'\n",
    "    headers = {\n",
    "        'Authorization': f'Bearer {access_token}'\n",
    "    }\n",
    "\n",
    "    try:\n",
    "        response = requests.get(url, headers=headers)\n",
    "        response.raise_for_status()  # Solleva un'eccezione se la richiesta HTTP non ha successo\n",
    "        track_data = response.json()\n",
    "        return track_data\n",
    "\n",
    "    except requests.exceptions.RequestException as e:\n",
    "        raise Exception(f\"Errore nella richiesta HTTP: {e}\")"
   ]
  },
  {
   "cell_type": "code",
   "execution_count": null,
   "id": "856defad-bcff-43ce-ac37-2251df2e446b",
   "metadata": {},
   "outputs": [],
   "source": [
    "track_name = \"Mercurio\"\n",
    "track_id = discography_data_frame.loc[discography_data_frame['Titolo'] == track_name, 'ID'].values[0]\n",
    "\n",
    "track_details = get_track_details(access_token, track_id)\n",
    "\n",
    "track_data_frame = pd.DataFrame({\n",
    "    'Titolo': [track_details['name']],\n",
    "    'ID': [track_details['id']],\n",
    "    'Durata': [convert_duration(track_details['duration_ms'])],  # Applica la conversione della durata\n",
    "    'Data di rilascio': [track_details['album']['release_date']],\n",
    "    'Popolarità': [track_details['popularity']],\n",
    "    'Spotify URL': [extract_spotify_url(track_details['external_urls'])],\n",
    "    'Album': [track_details['album']['name']],\n",
    "    'Copertina': [track_details['album']['images'][0]['url']]\n",
    "})\n",
    "\n",
    "track_data_frame['Spotify URL'] = track_data_frame['Spotify URL'].apply(make_clickable)\n",
    "track_data_frame['Copertina'] = track_data_frame['Copertina'].apply(display_image)\n",
    "\n",
    "print(f'Traccia {track_name}:\\n')\n",
    "HTML(track_data_frame.to_html(escape=False))"
   ]
  },
  {
   "cell_type": "markdown",
   "id": "4ef0c2b9-0358-41f4-9e59-73936e616fd6",
   "metadata": {},
   "source": [
    "Statistiche."
   ]
  },
  {
   "cell_type": "code",
   "execution_count": null,
   "id": "da035ca5-306b-4663-b679-2fd28a22f347",
   "metadata": {},
   "outputs": [
    {
     "name": "stdout",
     "output_type": "stream",
     "text": [
      "\u001b[F\u001b[F\u001b[F\u001b[F\u001b[F\u001b[F\u001b[F\n"
     ]
    }
   ],
   "source": [
    "import urllib.parse\n",
    "import secrets\n",
    "from datetime import datetime\n",
    "import webbrowser\n",
    "\n",
    "# Definizione delle costanti\n",
    "REDIRECT_URI = \"http://localhost:5000/callback\"\n",
    "TOKEN_URL = \"https://accounts.spotify.com/api/token\"\n",
    "AUTH_URL = \"https://accounts.spotify.com/authorize\"\n",
    "API_BASE_URL = \"https://api.spotify.com/v1/\"\n",
    "\n",
    "# Generazione di uno stato sicuro\n",
    "state = secrets.token_urlsafe(16)\n",
    "\n",
    "# Definizione dello scope\n",
    "scope = 'user-read-private user-top-read user-read-email user-follow-read playlist-modify-private playlist-modify-public user-follow-modify user-library-read'\n",
    "\n",
    "# Costruzione dei parametri per l'autorizzazione\n",
    "auth_params = {\n",
    "    'client_id': client_id,\n",
    "    'response_type': 'code',\n",
    "    'scope': scope,\n",
    "    'redirect_uri': REDIRECT_URI,\n",
    "    'show_dialog': True,\n",
    "    'state': state\n",
    "}\n",
    "\n",
    "# Costruzione dell'URL di autorizzazione\n",
    "auth_url = f\"{AUTH_URL}?{urllib.parse.urlencode(auth_params)}\"\n",
    "\n",
    "# Apertura automatica dell'URL nel browser\n",
    "webbrowser.open(auth_url, new=2)\n",
    "\n",
    "# Stampa di un messaggio informativo\n",
    "print(f'Si aprirà una finestra del browser. Dopo aver autorizzato l\\'app, copia l\\'URL della pagina ed incollalo qui di seguito.')\n",
    "\n",
    "# Ricezione dell'URL di callback in modo automatico\n",
    "callback_url = input(\"Incolla l'URL della pagina qui: \")\n",
    "url_components = urllib.parse.urlparse(callback_url)\n",
    "query_params = urllib.parse.parse_qs(url_components.query)\n",
    "\n",
    "# Rimuovi il messaggio informativo sulla finestra del browser\n",
    "print('\\033[F\\033[F\\033[F\\033[F\\033[F\\033[F\\033[F')\n",
    "\n",
    "# Estrazione del codice di autorizzazione dalla risposta di callback\n",
    "authorization_code = query_params.get('code')\n",
    "\n",
    "# Costruzione del corpo della richiesta per ottenere il token di accesso\n",
    "token_request_body = {\n",
    "    'code': authorization_code,\n",
    "    'grant_type': 'authorization_code',\n",
    "    'redirect_uri': REDIRECT_URI,\n",
    "    'client_id': client_id,\n",
    "    'client_secret': client_secret\n",
    "}\n",
    "\n",
    "# Richiesta del token di accesso\n",
    "token_response = requests.post(TOKEN_URL, data=token_request_body)\n",
    "token_info = token_response.json()\n",
    "\n",
    "# Estrazione delle informazioni dal token di accesso\n",
    "access_token = token_info.get('access_token')\n",
    "refresh_token = token_info.get('refresh_token')\n",
    "expires_at = datetime.now().timestamp() + token_info.get('expires_in', 3600)\n",
    "\n",
    "# Creazione dell'header di autorizzazione per le future richieste all'API di Spotify\n",
    "headers = {\n",
    "    'Authorization': f'Bearer {access_token}'\n",
    "}"
   ]
  },
  {
   "cell_type": "markdown",
   "id": "e3497604-52d5-47e6-a232-33f530f1b25f",
   "metadata": {},
   "source": [
    "Dopo aver eseguito l'autenticazione secondo le regole definite dal protocollo Oauth, sarà possibile accedere a molte altre funzionalità predisposte dalle API di Spotify. Iniziamo dall'ottenere banalmente il profilo dell'utente che si è autenticato, otterremo informazioni come :\n",
    "- Nome\n",
    "- ID\n",
    "- E-mail\n",
    "- Paese\n",
    "- Followers"
   ]
  },
  {
   "cell_type": "code",
   "execution_count": null,
   "id": "edd315a0-3f93-457a-a867-98bb81571c28",
   "metadata": {},
   "outputs": [],
   "source": [
    "def get_current_user_profile(access_token):\n",
    "    url = 'https://api.spotify.com/v1/me'\n",
    "    \n",
    "    headers = {\n",
    "        'Authorization': f'Bearer {access_token}'\n",
    "    }\n",
    "\n",
    "    try:\n",
    "        response = requests.get(url, headers=headers)\n",
    "        response.raise_for_status()  # Solleva un'eccezione se la richiesta HTTP non ha successo\n",
    "\n",
    "        user_data = response.json()\n",
    "        return user_data\n",
    "\n",
    "    except requests.exceptions.HTTPError as e:\n",
    "        # Dettagli specifici sull'errore\n",
    "        if response.status_code == 401:\n",
    "            raise Exception(\"Accesso non autorizzato. L'access token potrebbe essere scaduto o non valido.\")\n",
    "        else:\n",
    "            raise Exception(f\"Errore nella richiesta HTTP: {e}\")\n",
    "    except requests.exceptions.RequestException as e:\n",
    "        raise Exception(f\"Errore nella richiesta HTTP: {e}\")"
   ]
  },
  {
   "cell_type": "code",
   "execution_count": null,
   "id": "4f4f7ddd-2426-42b3-9621-2cca4142a361",
   "metadata": {},
   "outputs": [],
   "source": [
    "user_details = get_current_user_profile(access_token)\n",
    "\n",
    "user_data = {\n",
    "    'Nome': user_details.get('display_name', ''),\n",
    "    'ID': user_details.get('id', ''),\n",
    "    'E-mail': user_details.get('email', ''),\n",
    "    'Paese': user_details.get('country', ''),\n",
    "    'Followers': user_details.get('followers', {}).get('total', 0),\n",
    "    'Spotify URL': extract_spotify_url(user_details.get('external_urls', {}))\n",
    "}\n",
    "\n",
    "user_data_frame = pd.DataFrame([user_data], columns=['Nome', 'ID', 'E-mail', 'Paese', 'Followers', 'Spotify URL'])\n",
    "user_data_frame['Spotify URL'] = user_data_frame['Spotify URL'].apply(make_clickable)\n",
    "\n",
    "print(f'Utente corrente:\\n')\n",
    "HTML(user_data_frame.to_html(escape=False))"
   ]
  },
  {
   "cell_type": "markdown",
   "id": "dba7e1df-ae5a-4c94-96e1-750e05dd45d4",
   "metadata": {},
   "source": [
    "Una funzione un attimo più complessa potrebbe prevedere l'uso delle API di Spotify per l'ottenimento delle informazioni sulle playlists  seguite o create dall'utente. Siamo interessati a :\n",
    "- Nome\n",
    "- ID\n",
    "- Spotify URL\n",
    "- Numero di tracce\n",
    "- Proprietario\n",
    "- Descrizione\n",
    "- Copertina"
   ]
  },
  {
   "cell_type": "code",
   "execution_count": null,
   "id": "724b1b6a-c765-4b3f-85f5-2d76a0ca22d7",
   "metadata": {},
   "outputs": [],
   "source": [
    "def get_user_playlists(access_token, user_id):\n",
    "    url = f'https://api.spotify.com/v1/users/{user_id}/playlists'\n",
    "    headers = {\n",
    "        'Authorization': f'Bearer {access_token}'\n",
    "    }\n",
    "\n",
    "    try:\n",
    "        response = requests.get(url, headers=headers)\n",
    "        response.raise_for_status()  # Solleva un'eccezione se la richiesta HTTP non ha successo\n",
    "        playlists_data = response.json()\n",
    "        return playlists_data\n",
    "\n",
    "    except requests.exceptions.RequestException as e:\n",
    "        raise Exception(f\"Errore nella richiesta HTTP: {e}\")"
   ]
  },
  {
   "cell_type": "code",
   "execution_count": null,
   "id": "84ccfb4b-273e-429a-b5e6-c46d5baecefd",
   "metadata": {},
   "outputs": [],
   "source": [
    "playlists_data = get_user_playlists(access_token, user_data_frame['ID'][0])\n",
    "\n",
    "playlists = []\n",
    "for playlist in playlists_data['items']:\n",
    "    playlist_data = {\n",
    "        'Titolo': playlist['name'],\n",
    "        'ID': playlist['id'],\n",
    "        'Spotify URL': playlist['external_urls']['spotify'],\n",
    "        'No. Tracce': playlist['tracks']['total'],\n",
    "        'Proprietario': playlist['owner']['display_name'],\n",
    "        'Descrizione': playlist['description'] if playlist['description'] != '' else 'Nessuna descrizione',\n",
    "        'Copertina': playlist['images'][0]['url'] if playlist['images'] else None\n",
    "    }\n",
    "    playlists.append(playlist_data)\n",
    "playlist_data_frame = pd.DataFrame(playlists)\n",
    "\n",
    "playlist_data_frame = playlist_data_frame.sort_values(by='No. Tracce', ascending=False)\n",
    "playlist_data_frame = playlist_data_frame.reset_index(drop=True)\n",
    "\n",
    "playlist_data_frame['Spotify URL'] = playlist_data_frame['Spotify URL'].apply(make_clickable)\n",
    "playlist_data_frame['Copertina'] = playlist_data_frame['Copertina'].apply(display_image)\n",
    "\n",
    "user_name = user_data_frame['Nome'][0]\n",
    "print(f'Playlist create o seguite dall\\'utente {user_name}:\\n')\n",
    "HTML(playlist_data_frame.to_html(escape=False))"
   ]
  },
  {
   "cell_type": "markdown",
   "id": "5ef08a54-ac02-47e7-b5aa-f6c80a63bb01",
   "metadata": {},
   "source": [
    "Possiamo definire anche una funzione che data una playlist fornisca quali sono i brani che la compongono. <br>Ci fermeremo ad ottenere i soli <strong>ID</strong> dei brani ed utilizzando la funzione scritta in precedenza possiamo ottenere i dettagli di tutte le tracce."
   ]
  },
  {
   "cell_type": "code",
   "execution_count": null,
   "id": "a336fee1-9ab0-43fe-a491-133124ebb3bb",
   "metadata": {},
   "outputs": [],
   "source": [
    "def get_playlist_track_ids(access_token, playlist_id):\n",
    "    url = f'https://api.spotify.com/v1/playlists/{playlist_id}/tracks'\n",
    "    headers = {\n",
    "        'Authorization': f'Bearer {access_token}'\n",
    "    }\n",
    "\n",
    "    try:\n",
    "        response = requests.get(url, headers=headers)\n",
    "        response.raise_for_status()\n",
    "        playlist_tracks_data = response.json()\n",
    "        track_ids = [track['track']['id'] for track in playlist_tracks_data['items']]\n",
    "        return track_ids\n",
    "\n",
    "    except requests.exceptions.RequestException as e:\n",
    "        raise Exception(f\"Errore nella richiesta HTTP: {e}\")"
   ]
  },
  {
   "cell_type": "code",
   "execution_count": null,
   "id": "56c8c6ee-3d86-4f5a-ae44-d05d698654cc",
   "metadata": {},
   "outputs": [],
   "source": [
    "playlist_name = playlist_data_frame['Titolo'][0]\n",
    "playlist_id = playlist_data_frame['ID'][0]\n",
    "playlist_track_ids = get_playlist_track_ids(access_token, playlist_id)\n",
    "\n",
    "tracks_data = []\n",
    "for track_id in playlist_track_ids:\n",
    "    track_details = get_track_details(access_token, track_id)\n",
    "    tracks_data.append({\n",
    "        'Titolo': track_details['name'],\n",
    "        'ID': track_details['id'],\n",
    "        'Durata': convert_duration(track_details['duration_ms']),\n",
    "        'Data di rilascio': track_details['album']['release_date'],\n",
    "        'Popolarità': track_details['popularity'],\n",
    "        'Spotify URL': extract_spotify_url(track_details['external_urls']),\n",
    "        'Album': track_details['album']['name'],\n",
    "        'Copertina': track_details['album']['images'][0]['url']\n",
    "    })\n",
    "\n",
    "tracks_data_frame = pd.DataFrame(tracks_data)\n",
    "tracks_data_frame['Spotify URL'] = tracks_data_frame['Spotify URL'].apply(make_clickable)\n",
    "tracks_data_frame['Copertina'] = tracks_data_frame['Copertina'].apply(display_image)\n",
    "\n",
    "print(f'Tutti i brani della playlist {playlist_name} sono:\\n')\n",
    "HTML(tracks_data_frame.to_html(escape=False))"
   ]
  },
  {
   "cell_type": "markdown",
   "id": "8d693ca0-4e63-43f4-8d5a-8db1c387855b",
   "metadata": {},
   "source": [
    "<section id=\"data-extraction-and-analysis\">\n",
    "    <h2>7. Estrazione dati e analisi</h2>\n",
    "</section>"
   ]
  },
  {
   "cell_type": "markdown",
   "id": "a4988891-9350-44bf-983f-29290d10c603",
   "metadata": {},
   "source": [
    "Iniziamo ora la sezione dedicata all'estrazione e all'analisi dei dati. Utilizzeremo librerie Python specializzate come <strong>Matplotlib</strong> e <strong>NumPy</strong> per semplificare il processo di creazione dei grafici. Useremo anche il modulo <strong>Seaborn</strong> per migliorare l'estetica dei grafici."
   ]
  },
  {
   "cell_type": "code",
   "execution_count": null,
   "id": "a7984614-5df6-448c-a2e1-00278a21d48b",
   "metadata": {},
   "outputs": [],
   "source": [
    "import matplotlib.pyplot as plt\n",
    "import numpy as np\n",
    "import seaborn as sns"
   ]
  },
  {
   "cell_type": "markdown",
   "id": "58ea8dd6-764a-4b5a-8906-4eb3ba13629b",
   "metadata": {},
   "source": [
    "In questa sezione saranno presenti analisi statistiche che portano alla luce osservazioni statistiche interessanti.<br>\n",
    "Ricordi il file <strong>\"discography_data.csv\"</strong>? Bene, esploriamo la relazione tra la durata delle tracce e gli album di appartenenza. <br> In questo grafico a barre, presentiamo la durata media delle tracce per ciascun album. "
   ]
  },
  {
   "cell_type": "code",
   "execution_count": null,
   "id": "30bf9047-6eb0-4cc7-999c-100db55b3255",
   "metadata": {},
   "outputs": [],
   "source": [
    "duration_per_album = discography_data_frame.groupby('Album')['Durata'].mean().reset_index()\n",
    "\n",
    "sns.set_style(\"whitegrid\")\n",
    "\n",
    "plt.figure(figsize=(12, 8))\n",
    "colors = sns.color_palette(\"viridis\", len(duration_per_album))\n",
    "barplot = plt.bar(duration_per_album['Album'], duration_per_album['Durata'], color=colors, width=0.5)\n",
    "\n",
    "for bar, duration in zip(barplot, duration_per_album['Durata']):\n",
    "    plt.text(bar.get_x() + bar.get_width() / 2, bar.get_height(), f'{duration:.2f}', ha='center', va='bottom', fontsize=10, color='black')\n",
    "\n",
    "plt.xticks(rotation=45, ha='right')\n",
    "plt.xlabel('Album')\n",
    "plt.ylabel('Durata Media (m)')\n",
    "plt.title('Durata Media delle Tracce per Album')\n",
    "\n",
    "plt.tight_layout()\n",
    "plt.show()"
   ]
  },
  {
   "cell_type": "markdown",
   "id": "af49da31-7aa0-4288-bde4-a6cfd65d531c",
   "metadata": {},
   "source": [
    "Apriamo questa sezione con un'analisi intrigante: <strong>la popolarità di un artista non segue necessariamente il numero di followers</strong>. Il grafico seguente mette in evidenza questo aspetto non scontato, mostrando un dettaglio interessante. <br>\n",
    "Si osserva che artisti con un livello di popolarità più elevato possono avere meno followers rispetto a colleghi con un indice di popolarità notevolmente inferiore. <br>\n",
    "Questo scenario sfida l'aspettativa comune e apre la strada a una riflessione più approfondita sulla dinamica tra popolarità e seguaci degli artisti.\n",
    "\n",
    "Al fine di garantire una rappresentazione di valori comparabili, è indispensabile procedere con la riscala del numero di Followers su una **scala 1:10K**. Senza un processo di normalizzazione di questo tipo, i valori diverrebbero incommensurabili, compromettendo la validità del confronto e rendendo il grafico poco rappresentativo."
   ]
  },
  {
   "cell_type": "code",
   "execution_count": null,
   "id": "0de5fe13-acc1-4210-aa76-b690a793471d",
   "metadata": {},
   "outputs": [],
   "source": [
    "import pandas as pd\n",
    "\n",
    "sns.set_style(\"whitegrid\")\n",
    "\n",
    "# Creiamo un barplot della popolarità e del numero di followers degli artisti correlati\n",
    "plt.figure(figsize=(12, 8))\n",
    "bar_width = 0.4\n",
    "\n",
    "# Posizioni delle barre sull'asse x\n",
    "r1 = range(len(artists_data_frame))\n",
    "r2 = [x + bar_width for x in r1]\n",
    "\n",
    "# Barre per la popolarità\n",
    "plt.bar(r1, artists_data_frame['Popolarità'], color='skyblue', width=bar_width, edgecolor='grey', label='Popolarità')\n",
    "\n",
    "# Barre per il numero di followers\n",
    "plt.bar(r2, artists_data_frame['Followers']/10000, color='orange', width=bar_width, edgecolor='grey', label='Followers (10K)')\n",
    "\n",
    "# Etichette con i valori di popolarità su ogni barra (troncati alla parte intera)\n",
    "for i, popularity in enumerate(artists_data_frame['Popolarità']):\n",
    "    plt.text(i, int(popularity), f'{int(popularity)}', ha='center', va='bottom', fontsize=10, color='black')\n",
    "\n",
    "# Etichette con i valori di followers su ogni barra (troncati alla parte intera e in formato 10K)\n",
    "for i, followers in enumerate(artists_data_frame['Followers']):\n",
    "    plt.text(i + bar_width, followers/10000, f'{followers/1000:.0f}', ha='center', va='bottom', fontsize=10, color='black')\n",
    "\n",
    "# Personalizziamo l'aspetto del grafico\n",
    "plt.xticks([r + bar_width / 2 for r in range(len(artists_data_frame))], artists_data_frame['Nome'], rotation=45, ha='right')\n",
    "plt.xlabel('Artista')\n",
    "plt.ylabel('Valori')  # Modificato il testo per riflettere la rimozione della normalizzazione\n",
    "plt.title('Popolarità e Followers degli Artisti Correlati')\n",
    "plt.legend()\n",
    "\n",
    "# Aggiungi etichette agli assi\n",
    "plt.xlabel('Artista')\n",
    "plt.ylabel('Popolarità e Followers (10K)')\n",
    "\n",
    "plt.tight_layout()\n",
    "plt.show()"
   ]
  },
  {
   "cell_type": "markdown",
   "id": "7dda0aea-d1f1-4157-9528-81535141974f",
   "metadata": {},
   "source": [
    "A partire da dei file di testo che enumerano i nomi degli artisti per 10 diverse nazionalità, possiamo creare un DataFrame che raggruppa gli artisti per ciascuna nazione. Successivamente, aggiungiamo una colonna denominata <strong>\"Nazionalità\"</strong>, che sarà naturalmente uniforme per tutti gli artisti all'interno di ciascun DataFrame. <br>\n",
    "Una volta completata questa fase, procederemo con la concatenazione di tutti questi DataFrame in un unico DataFrame, raccogliendo così un insieme di artisti internazionali.\n",
    "\n",
    "- Iniziamo dagli artisti Italiani :"
   ]
  },
  {
   "cell_type": "code",
   "execution_count": null,
   "id": "67f03f35-0fcf-47cb-aaaf-a8877d2ea362",
   "metadata": {
    "scrolled": true
   },
   "outputs": [],
   "source": [
    "from tqdm import tqdm\n",
    "\n",
    "with open('artists/italian.txt', 'r') as file:\n",
    "    italian_artist_names = [line.strip() for line in file]\n",
    "\n",
    "artists_data = []\n",
    "\n",
    "# Usa tqdm per monitorare l'avanzamento del ciclo\n",
    "for artist_name in tqdm(italian_artist_names, desc='Processing artists', unit='artist'):\n",
    "    artist = search_artist(access_token, artist_name)\n",
    "    \n",
    "    artist_data = {\n",
    "        \"Nome\": artist[\"name\"],\n",
    "        \"ID\": artist[\"id\"],\n",
    "        \"Genere\": artist[\"genres\"][0] if artist[\"genres\"] else None,\n",
    "        \"Popolarità\": artist[\"popularity\"],\n",
    "        \"Followers\": artist[\"followers\"][\"total\"],\n",
    "        \"Spotify URL\": artist[\"external_urls\"][\"spotify\"]\n",
    "    }\n",
    "    \n",
    "    artists_data.append(artist_data)\n",
    "    \n",
    "italian_artists_data_frame = pd.DataFrame(artists_data)\n",
    "italian_artists_data_frame['Spotify URL'] = italian_artists_data_frame['Spotify URL'].apply(make_clickable)\n",
    "italian_artists_data_frame['Nazionalità'] = \"Italiana\" \n",
    "\n",
    "display(HTML(italian_artists_data_frame.to_html(escape=False)))"
   ]
  },
  {
   "cell_type": "markdown",
   "id": "b86d98a8-1068-4df5-a909-815c68e292a8",
   "metadata": {},
   "source": [
    "- Proseguiamo con quelli Americani:"
   ]
  },
  {
   "cell_type": "code",
   "execution_count": null,
   "id": "c14f8508-21c4-481f-b920-a91b15094787",
   "metadata": {},
   "outputs": [],
   "source": [
    "with open('artists/american.txt', 'r') as file:\n",
    "    american_artist_names = [line.strip() for line in file]\n",
    "\n",
    "artists_data = []\n",
    "\n",
    "# Usa tqdm per monitorare l'avanzamento del ciclo\n",
    "for artist_name in tqdm(american_artist_names, desc='Processing artists', unit='artist'):\n",
    "    artist = search_artist(access_token, artist_name)\n",
    "    \n",
    "    artist_data = {\n",
    "        \"Nome\": artist[\"name\"],\n",
    "        \"ID\": artist[\"id\"],\n",
    "        \"Genere\": artist[\"genres\"][0] if artist[\"genres\"] else None,\n",
    "        \"Popolarità\": artist[\"popularity\"],\n",
    "        \"Followers\": artist[\"followers\"][\"total\"],\n",
    "        \"Spotify URL\": artist[\"external_urls\"][\"spotify\"]\n",
    "    }\n",
    "    \n",
    "    artists_data.append(artist_data)\n",
    "    \n",
    "american_artists_data_frame = pd.DataFrame(artists_data)\n",
    "american_artists_data_frame['Spotify URL'] = american_artists_data_frame['Spotify URL'].apply(make_clickable)\n",
    "american_artists_data_frame['Nazionalità'] = \"Americana\" \n",
    "\n",
    "display(HTML(american_artists_data_frame.to_html(escape=False)))"
   ]
  },
  {
   "cell_type": "markdown",
   "id": "a5bcd100-4e98-4c37-adc0-b374ffc4ae86",
   "metadata": {},
   "source": [
    "- Artisti Francesi:"
   ]
  },
  {
   "cell_type": "code",
   "execution_count": null,
   "id": "b284d136-cb13-48fa-a86f-dc89852f51d2",
   "metadata": {},
   "outputs": [],
   "source": [
    "with open('artists/french.txt', 'r') as file:\n",
    "    french_artist_names = [line.strip() for line in file]\n",
    "\n",
    "artists_data = []\n",
    "\n",
    "# Usa tqdm per monitorare l'avanzamento del ciclo\n",
    "for artist_name in tqdm(french_artist_names, desc='Processing artists', unit='artist'):\n",
    "    artist = search_artist(access_token, artist_name)\n",
    "    \n",
    "    artist_data = {\n",
    "        \"Nome\": artist[\"name\"],\n",
    "        \"ID\": artist[\"id\"],\n",
    "        \"Genere\": artist[\"genres\"][0] if artist[\"genres\"] else None,\n",
    "        \"Popolarità\": artist[\"popularity\"],\n",
    "        \"Followers\": artist[\"followers\"][\"total\"],\n",
    "        \"Spotify URL\": artist[\"external_urls\"][\"spotify\"]\n",
    "    }\n",
    "    \n",
    "    artists_data.append(artist_data)\n",
    "    \n",
    "french_artists_data_frame = pd.DataFrame(artists_data)\n",
    "french_artists_data_frame['Spotify URL'] = french_artists_data_frame['Spotify URL'].apply(make_clickable)\n",
    "french_artists_data_frame['Nazionalità'] = \"Francese\" \n",
    "\n",
    "display(HTML(french_artists_data_frame.to_html(escape=False)))"
   ]
  },
  {
   "cell_type": "markdown",
   "id": "b93c5310-6d7f-45bb-8df5-0e98016f9128",
   "metadata": {},
   "source": [
    "- Artisti Tedeschi:"
   ]
  },
  {
   "cell_type": "code",
   "execution_count": null,
   "id": "153f2ae9-4fd7-4092-b7f7-5125a72ad996",
   "metadata": {},
   "outputs": [],
   "source": [
    "with open('artists/german.txt', 'r') as file:\n",
    "    german_artist_names = [line.strip() for line in file]\n",
    "\n",
    "artists_data = []\n",
    "\n",
    "# Usa tqdm per monitorare l'avanzamento del ciclo\n",
    "for artist_name in tqdm(german_artist_names, desc='Processing artists', unit='artist'):\n",
    "    artist = search_artist(access_token, artist_name)\n",
    "    \n",
    "    artist_data = {\n",
    "        \"Nome\": artist[\"name\"],\n",
    "        \"ID\": artist[\"id\"],\n",
    "        \"Genere\": artist[\"genres\"][0] if artist[\"genres\"] else None,\n",
    "        \"Popolarità\": artist[\"popularity\"],\n",
    "        \"Followers\": artist[\"followers\"][\"total\"],\n",
    "        \"Spotify URL\": artist[\"external_urls\"][\"spotify\"]\n",
    "    }\n",
    "    \n",
    "    artists_data.append(artist_data)\n",
    "    \n",
    "german_artists_data_frame = pd.DataFrame(artists_data)\n",
    "german_artists_data_frame['Spotify URL'] = german_artists_data_frame['Spotify URL'].apply(make_clickable)\n",
    "german_artists_data_frame['Nazionalità'] = \"Tedesca\" \n",
    "\n",
    "display(HTML(german_artists_data_frame.to_html(escape=False)))"
   ]
  },
  {
   "cell_type": "markdown",
   "id": "caf3bf0e-e90c-42e3-a8eb-35a4a4654f13",
   "metadata": {},
   "source": [
    "- Artisti Cinesi:"
   ]
  },
  {
   "cell_type": "code",
   "execution_count": null,
   "id": "cfb3f3b7-0b91-4491-bd38-922afaf51455",
   "metadata": {},
   "outputs": [],
   "source": [
    "with open('artists/chinese.txt', 'r') as file:\n",
    "    chinese_artist_names = [line.strip() for line in file]\n",
    "\n",
    "artists_data = []\n",
    "\n",
    "# Usa tqdm per monitorare l'avanzamento del ciclo\n",
    "for artist_name in tqdm(chinese_artist_names, desc='Processing artists', unit='artist'):\n",
    "    artist = search_artist(access_token, artist_name)\n",
    "    \n",
    "    artist_data = {\n",
    "        \"Nome\": artist[\"name\"],\n",
    "        \"ID\": artist[\"id\"],\n",
    "        \"Genere\": artist[\"genres\"][0] if artist[\"genres\"] else None,\n",
    "        \"Popolarità\": artist[\"popularity\"],\n",
    "        \"Followers\": artist[\"followers\"][\"total\"],\n",
    "        \"Spotify URL\": artist[\"external_urls\"][\"spotify\"]\n",
    "    }\n",
    "    \n",
    "    artists_data.append(artist_data)\n",
    "    \n",
    "chinese_artists_data_frame = pd.DataFrame(artists_data)\n",
    "chinese_artists_data_frame['Spotify URL'] = chinese_artists_data_frame['Spotify URL'].apply(make_clickable)\n",
    "chinese_artists_data_frame['Nazionalità'] = \"Cinese\" \n",
    "\n",
    "display(HTML(chinese_artists_data_frame.to_html(escape=False)))"
   ]
  },
  {
   "cell_type": "markdown",
   "id": "2516b1bd-9ebd-4ebe-b127-bc8c028cdec6",
   "metadata": {},
   "source": [
    "- Artisti Giapponesi:"
   ]
  },
  {
   "cell_type": "code",
   "execution_count": null,
   "id": "c81d59e1-95d5-4c3c-8fd5-c595f04bd690",
   "metadata": {},
   "outputs": [],
   "source": [
    "with open('artists/japanese.txt', 'r') as file:\n",
    "    japanese_artist_names = [line.strip() for line in file]\n",
    "\n",
    "artists_data = []\n",
    "\n",
    "# Usa tqdm per monitorare l'avanzamento del ciclo\n",
    "for artist_name in tqdm(japanese_artist_names, desc='Processing artists', unit='artist'):\n",
    "    artist = search_artist(access_token, artist_name)\n",
    "    \n",
    "    artist_data = {\n",
    "        \"Nome\": artist[\"name\"],\n",
    "        \"ID\": artist[\"id\"],\n",
    "        \"Genere\": artist[\"genres\"][0] if artist[\"genres\"] else None,\n",
    "        \"Popolarità\": artist[\"popularity\"],\n",
    "        \"Followers\": artist[\"followers\"][\"total\"],\n",
    "        \"Spotify URL\": artist[\"external_urls\"][\"spotify\"]\n",
    "    }\n",
    "    \n",
    "    artists_data.append(artist_data)\n",
    "    \n",
    "japanese_artists_data_frame = pd.DataFrame(artists_data)\n",
    "japanese_artists_data_frame['Spotify URL'] = japanese_artists_data_frame['Spotify URL'].apply(make_clickable)\n",
    "japanese_artists_data_frame['Nazionalità'] = \"Giapponese\" \n",
    "\n",
    "display(HTML(japanese_artists_data_frame.to_html(escape=False)))"
   ]
  },
  {
   "cell_type": "markdown",
   "id": "bc790f53-7e3b-4600-ad9e-a794578645eb",
   "metadata": {},
   "source": [
    "- Artisti Rumeni:"
   ]
  },
  {
   "cell_type": "code",
   "execution_count": null,
   "id": "f86523f7-f1cd-49de-8cc4-1bbb0038890c",
   "metadata": {},
   "outputs": [],
   "source": [
    "with open('artists/romanian.txt', 'r') as file:\n",
    "    romanian_artist_names = [line.strip() for line in file]\n",
    "\n",
    "artists_data = []\n",
    "\n",
    "# Usa tqdm per monitorare l'avanzamento del ciclo\n",
    "for artist_name in tqdm(romanian_artist_names, desc='Processing artists', unit='artist'):\n",
    "    artist = search_artist(access_token, artist_name)\n",
    "    \n",
    "    artist_data = {\n",
    "        \"Nome\": artist[\"name\"],\n",
    "        \"ID\": artist[\"id\"],\n",
    "        \"Genere\": artist[\"genres\"][0] if artist[\"genres\"] else None,\n",
    "        \"Popolarità\": artist[\"popularity\"],\n",
    "        \"Followers\": artist[\"followers\"][\"total\"],\n",
    "        \"Spotify URL\": artist[\"external_urls\"][\"spotify\"]\n",
    "    }\n",
    "    \n",
    "    artists_data.append(artist_data)\n",
    "    \n",
    "romanian_artists_data_frame = pd.DataFrame(artists_data)\n",
    "romanian_artists_data_frame['Spotify URL'] = romanian_artists_data_frame['Spotify URL'].apply(make_clickable)\n",
    "romanian_artists_data_frame['Nazionalità'] = \"Rumena\" \n",
    "\n",
    "display(HTML(romanian_artists_data_frame.to_html(escape=False)))"
   ]
  },
  {
   "cell_type": "markdown",
   "id": "add598f4-bcbd-494d-86bf-83cf2e13b043",
   "metadata": {},
   "source": [
    "- Artisti Bulgari:"
   ]
  },
  {
   "cell_type": "code",
   "execution_count": null,
   "id": "a13ef3e6-47cc-4057-b3f3-4f176ae161e3",
   "metadata": {},
   "outputs": [],
   "source": [
    "with open('artists/bulgarian.txt', 'r') as file:\n",
    "    bulgarian_artist_names = [line.strip() for line in file]\n",
    "\n",
    "artists_data = []\n",
    "\n",
    "# Usa tqdm per monitorare l'avanzamento del ciclo\n",
    "for artist_name in tqdm(bulgarian_artist_names, desc='Processing artists', unit='artist'):\n",
    "    artist = search_artist(access_token, artist_name)\n",
    "    \n",
    "    artist_data = {\n",
    "        \"Nome\": artist[\"name\"],\n",
    "        \"ID\": artist[\"id\"],\n",
    "        \"Genere\": artist[\"genres\"][0] if artist[\"genres\"] else None,\n",
    "        \"Popolarità\": artist[\"popularity\"],\n",
    "        \"Followers\": artist[\"followers\"][\"total\"],\n",
    "        \"Spotify URL\": artist[\"external_urls\"][\"spotify\"]\n",
    "    }\n",
    "    \n",
    "    artists_data.append(artist_data)\n",
    "    \n",
    "bulgarian_artists_data_frame = pd.DataFrame(artists_data)\n",
    "bulgarian_artists_data_frame['Spotify URL'] = bulgarian_artists_data_frame['Spotify URL'].apply(make_clickable)\n",
    "bulgarian_artists_data_frame['Nazionalità'] = \"Bulgara\" \n",
    "\n",
    "display(HTML(bulgarian_artists_data_frame.to_html(escape=False)))"
   ]
  },
  {
   "cell_type": "markdown",
   "id": "7a933ea3-ec6d-4762-8cf6-963b6e05127a",
   "metadata": {},
   "source": [
    "- Artisti Spagnoli:"
   ]
  },
  {
   "cell_type": "code",
   "execution_count": null,
   "id": "f5ada8d6-71bf-4de3-b735-756658bc228f",
   "metadata": {},
   "outputs": [],
   "source": [
    "with open('artists/spanish.txt', 'r') as file:\n",
    "    spanish_artist_names = [line.strip() for line in file]\n",
    "\n",
    "artists_data = []\n",
    "\n",
    "# Usa tqdm per monitorare l'avanzamento del ciclo\n",
    "for artist_name in tqdm(spanish_artist_names, desc='Processing artists', unit='artist'):\n",
    "    artist = search_artist(access_token, artist_name)\n",
    "    \n",
    "    artist_data = {\n",
    "        \"Nome\": artist[\"name\"],\n",
    "        \"ID\": artist[\"id\"],\n",
    "        \"Genere\": artist[\"genres\"][0] if artist[\"genres\"] else None,\n",
    "        \"Popolarità\": artist[\"popularity\"],\n",
    "        \"Followers\": artist[\"followers\"][\"total\"],\n",
    "        \"Spotify URL\": artist[\"external_urls\"][\"spotify\"]\n",
    "    }\n",
    "    \n",
    "    artists_data.append(artist_data)\n",
    "    \n",
    "spanish_artists_data_frame = pd.DataFrame(artists_data)\n",
    "spanish_artists_data_frame['Spotify URL'] = spanish_artists_data_frame['Spotify URL'].apply(make_clickable)\n",
    "spanish_artists_data_frame['Nazionalità'] = \"Spagnola\" \n",
    "\n",
    "display(HTML(spanish_artists_data_frame.to_html(escape=False)))"
   ]
  },
  {
   "cell_type": "markdown",
   "id": "045468b3-760e-4d87-91ae-5bd1147d144b",
   "metadata": {},
   "source": [
    "- Artisti Corean:"
   ]
  },
  {
   "cell_type": "code",
   "execution_count": null,
   "id": "a4fa1979-8c74-4b10-bdf5-46877bf4055f",
   "metadata": {},
   "outputs": [],
   "source": [
    "with open('artists/corean.txt', 'r') as file:\n",
    "    corean_artist_names = [line.strip() for line in file]\n",
    "\n",
    "artists_data = []\n",
    "\n",
    "# Usa tqdm per monitorare l'avanzamento del ciclo\n",
    "for artist_name in tqdm(corean_artist_names, desc='Processing artists', unit='artist'):\n",
    "    artist = search_artist(access_token, artist_name)\n",
    "    \n",
    "    artist_data = {\n",
    "        \"Nome\": artist[\"name\"],\n",
    "        \"ID\": artist[\"id\"],\n",
    "        \"Genere\": artist[\"genres\"][0] if artist[\"genres\"] else None,\n",
    "        \"Popolarità\": artist[\"popularity\"],\n",
    "        \"Followers\": artist[\"followers\"][\"total\"],\n",
    "        \"Spotify URL\": artist[\"external_urls\"][\"spotify\"]\n",
    "    }\n",
    "    \n",
    "    artists_data.append(artist_data)\n",
    "    \n",
    "corean_artists_data_frame = pd.DataFrame(artists_data)\n",
    "corean_artists_data_frame['Spotify URL'] = corean_artists_data_frame['Spotify URL'].apply(make_clickable)\n",
    "corean_artists_data_frame['Nazionalità'] = \"Coreana\" \n",
    "\n",
    "display(HTML(corean_artists_data_frame.to_html(escape=False)))"
   ]
  },
  {
   "cell_type": "markdown",
   "id": "90e91cca-ae32-4d01-9bb3-200e8689e030",
   "metadata": {},
   "source": [
    "Adesso è il momento di unire tutti e 10 i dataframe in un'unico dataframe globale che contenga tutti i dati fin'ora ottenuti.\n",
    "Il dataframe contiene le seguenti colonne:\n",
    "- Nome\n",
    "- ID \n",
    "- Genere \n",
    "- Popolarità\n",
    "- Followers \n",
    "- Spotify URL \n",
    "- Nazionalità    "
   ]
  },
  {
   "cell_type": "code",
   "execution_count": null,
   "id": "f121d39f-1779-4c23-a9c2-83428d5db817",
   "metadata": {},
   "outputs": [],
   "source": [
    "data_frames = [\n",
    "    italian_artists_data_frame,\n",
    "    american_artists_data_frame,\n",
    "    french_artists_data_frame,\n",
    "    german_artists_data_frame,\n",
    "    chinese_artists_data_frame,\n",
    "    japanese_artists_data_frame,\n",
    "    romanian_artists_data_frame,\n",
    "    bulgarian_artists_data_frame,\n",
    "    spanish_artists_data_frame,\n",
    "    corean_artists_data_frame\n",
    "]\n",
    "\n",
    "international_artists_data_frame = pd.concat(data_frames, ignore_index=True)\n",
    "\n",
    "print(\"DataFrame complessivo degli artisti internazionali:\")\n",
    "display(HTML(international_artists_data_frame.to_html(escape=False)))\n",
    "\n",
    "international_artists_data_frame.to_csv('international_artists_data.csv', index=False)"
   ]
  },
  {
   "cell_type": "code",
   "execution_count": null,
   "id": "711eb3dd-8447-438e-ba74-0d4745fcbb00",
   "metadata": {},
   "outputs": [],
   "source": [
    "international_artists_data_frame.describe()"
   ]
  },
  {
   "cell_type": "markdown",
   "id": "4dcbf226-2b4c-4dc2-a6eb-ce8089d1262c",
   "metadata": {},
   "source": [
    "- Una volta ottenuto un dataframe contenente le informazioni sulla nazionalità di 1000 artisti, procediamo ora all'analisi della popolarità di ciascun artista in base alla propria nazione di appartenenza. È immediatamente evidente che, mantenendo costante il numero di artisti, coloro provenienti dagli Stati Uniti emergono come i più popolari."
   ]
  },
  {
   "cell_type": "code",
   "execution_count": null,
   "id": "8a25f276-df85-4cb3-9ac9-90c43bf45a1b",
   "metadata": {},
   "outputs": [],
   "source": [
    "mean_data = international_artists_data_frame.groupby('Nazionalità').agg({'Popolarità': 'mean', 'Followers': 'mean'}).reset_index()\n",
    "\n",
    "sns.set_style(\"whitegrid\")\n",
    "\n",
    "plt.figure(figsize=(12, 6))\n",
    "sns.barplot(data=mean_data, x='Nazionalità', y='Popolarità', palette='viridis', width=0.6)\n",
    "plt.title('Popolarità media per nazionalità')\n",
    "plt.xlabel('Nazionalità')\n",
    "plt.ylabel('Popolarità media')\n",
    "\n",
    "plt.show()"
   ]
  },
  {
   "cell_type": "markdown",
   "id": "d2360e1e-8749-42ca-ba47-da32a3f73d1f",
   "metadata": {},
   "source": [
    "- Nel grafico, è chiaro che oltre una popolarità di 70, la crescita del numero di followers deve avvenire in modo esponenziale. <br>\n",
    "La curva esponenziale mostra un <strong>punto di inflessione</strong> vicino a <strong>x=70</strong>, indicando un cambiamento significativo nella relazione tra popolarità e followers in quella gamma di valori."
   ]
  },
  {
   "cell_type": "code",
   "execution_count": null,
   "id": "0c97eb84-b7c6-4545-b7e8-00f4ec79d8de",
   "metadata": {},
   "outputs": [],
   "source": [
    "sns.set_style(\"whitegrid\")\n",
    "\n",
    "plt.figure(figsize=(12, 8))\n",
    "plt.scatter(international_artists_data_frame['Popolarità'], international_artists_data_frame['Followers'], alpha=0.5)\n",
    "plt.axvline(x=70, color='r', linestyle='--', label='Punto di inflessione')\n",
    "\n",
    "plt.xlabel('Popolarità')\n",
    "plt.ylabel('Followers')\n",
    "plt.title('Scatter Plot: Popolarità vs Followers')\n",
    "plt.legend()\n",
    "\n",
    "plt.show()"
   ]
  },
  {
   "cell_type": "markdown",
   "id": "7f47d732-0efe-453b-81f3-c69a92d5f2da",
   "metadata": {},
   "source": [
    "Per motivi di semplicità, proseguiremo le nostre analisi statistiche con un dataset reperito da una fonte esterna **(GitHub: @\n",
    "jivanjotk)**\n",
    "\n",
    "Il set di dati per questo progetto contiene un elenco completo delle **canzoni più famose del 2023** elencate su Spotify. Il set di dati offre una serie di caratteristiche che vanno oltre quelle tipicamente disponibili in set di dati simili. Fornisce informazioni sugli attributi, la popolarità e la presenza di ogni canzone su varie piattaforme musicali. \n",
    "\n",
    "Caratteristiche principali del dataset :\n",
    "- track_name: nome del brano\n",
    "- artist_name: nome dell'artista del brano\n",
    "- artist_count: Numero di artisti che hanno contribuito al brano\n",
    "- released_year: Anno di pubblicazione del brano\n",
    "- released_month: Mese in cui il brano è stato pubblicato\n",
    "- released_day: Giorno del mese in cui il brano è stato pubblicato\n",
    "- in_spotify_playlists: Numero di playlist di Spotify in cui il brano è incluso\n",
    "- in_spotify_charts: Presenza e posizione del brano nelle classifiche di Spotify\n",
    "- streams: Numero totale di streaming su Spotify\n",
    "- in_apple_playlists: Numero di playlist di Apple Music in cui è incluso il brano\n",
    "- in_apple_charts: Presenza e posizione del brano nelle classifiche di Apple Music\n",
    "- in_deezer_playlists: Numero di playlist Deezer in cui è incluso il brano\n",
    "- in_deezer_charts: Presenza e posizione del brano nelle classifiche di Deezer\n",
    "- in_shazam_charts: Presenza e posizione del brano nelle classifiche Shazam\n",
    "- bpm: battiti al minuto, una misura del tempo del brano\n",
    "- key: Chiave del brano\n",
    "- mode: Modo della canzone (maggiore o minore)\n",
    "- danceability_%: Percentuale che indica quanto la canzone è adatta al ballo\n",
    "- valence_%: Positività del contenuto musicale della canzone\n",
    "- energy_%: Livello di energia percepito della canzone\n",
    "- acousticness_%: Quantità di suoni acustici nel brano\n",
    "- instrumentalness_%: Quantità di contenuto strumentale nel brano\n",
    "- liveness_%: Presenza di elementi di performance dal vivo\n",
    "- speechiness_%: Quantità di parole parlate nel brano"
   ]
  },
  {
   "cell_type": "code",
   "execution_count": null,
   "id": "aeb047b0-4780-42c6-a509-5599ab2d8bb9",
   "metadata": {},
   "outputs": [],
   "source": [
    "file_path = 'most_streamed.csv'\n",
    "most_streamed_data_frame = pd.read_csv(file_path, encoding='latin1')\n",
    "\n",
    "most_streamed_data_frame"
   ]
  },
  {
   "cell_type": "code",
   "execution_count": null,
   "id": "8d4a6720-1e57-427f-ad2c-35be9a453a78",
   "metadata": {},
   "outputs": [],
   "source": [
    "most_streamed_data_frame.describe()"
   ]
  },
  {
   "cell_type": "markdown",
   "id": "5213584b-84b9-475b-8aca-50fd9d668230",
   "metadata": {},
   "source": [
    "- Il dataframe in questione racchiude le canzoni più celebri su Spotify durante l'intero anno 2023, senza limitazioni legate al genere musicale o alla nazionalità degli artisti. La metrica principale considerata è il numero di stream, che rappresenta le riproduzioni di ciascun brano. Questo parametro è analizzato in relazione alla **danceability percentuale**, una misura che quantifica quanto una canzone sia adatta al ballo.\n",
    "\n",
    "- Come ci si potrebbe aspettare intuitivamente, si osserva un aumento del numero di stream all'aumentare della percentuale di danceability. Questo dato conduce a un'importante conclusione, evidenziando che la popolarità di una canzone è strettamente correlata alla sua capacità di suscitare il desiderio di ballare nel pubblico degli ascoltatori."
   ]
  },
  {
   "cell_type": "code",
   "execution_count": null,
   "id": "faa9012c-1cd2-4a6d-87ad-76c17c8296b1",
   "metadata": {},
   "outputs": [],
   "source": [
    "import warnings\n",
    "\n",
    "warnings.filterwarnings(\"ignore\")\n",
    "sns.set_style(\"whitegrid\")\n",
    "\n",
    "plt.figure(figsize=(16, 8))\n",
    "sns.histplot(data=most_streamed_data_frame, x='danceability_%', bins=30, hue='streams', multiple='stack', palette='viridis', legend=False)\n",
    "plt.title('Distribuzione di danceability_%')\n",
    "plt.xlabel('Danceability percentuale del brano')\n",
    "plt.ylabel('Numero di stream')\n",
    "\n",
    "plt.show()"
   ]
  },
  {
   "cell_type": "markdown",
   "id": "3b63d2e0-9016-4704-b783-7f6a5f308ec5",
   "metadata": {},
   "source": [
    "In base all'analisi del grafico, emerge chiaramente che la distribuzione del numero di stream inizia a diminuire significativamente dopo aver raggiunto un livello di danceability del 80%. Questo fenomeno indica una caratteristica interessante dei brani musicali, poiché diventano eccessivamente specifici e tecnici. Di conseguenza, il loro grado di attrattività per il pubblico diminuisce, portando a una diminuzione delle riproduzioni.\n",
    "\n",
    "Per supportare questa ipotesi, esaminiamo ora i brani musicali in cui la percentuale di danceability supera l'80%. Questa analisi approfondita ci consentirà di confermare se esiste effettivamente una correlazione negativa tra l'aumento della danceability e la diminuzione delle riproduzioni."
   ]
  },
  {
   "cell_type": "code",
   "execution_count": null,
   "id": "6dce0bda-621d-4da6-96cf-c58da99dbfb4",
   "metadata": {},
   "outputs": [],
   "source": [
    "most_streamed_data_frame[most_streamed_data_frame['danceability_%'] >= 80]"
   ]
  },
  {
   "cell_type": "markdown",
   "id": "52d37a9f-ed79-4107-b7ad-cd69cfc85046",
   "metadata": {},
   "source": [
    "<section id=\"conclusion\">\n",
    "    <h2>8. Conclusion</h2>\n",
    "</section>"
   ]
  },
  {
   "cell_type": "markdown",
   "id": "445ec5cf-93ae-4638-a963-c23323cb15b5",
   "metadata": {},
   "source": [
    "In questo tutorial abbiamo esplorato l'ampio spettro di possibilità offerto dall'**API Web di Spotify**, aprendo la porta a un mondo di interazioni creative con il rinomato servizio di streaming musicale. Attraverso i vari passaggi del nostro percorso, abbiamo appreso come recuperare i metadati dei contenuti, ottenere consigli personalizzati, creare e gestire playlist, nonché controllare la riproduzione di brani.\n",
    "\n",
    "L'accesso alle API di Spotify non solo offre agli sviluppatori un potente strumento per arricchire le loro applicazioni con dati musicali di alta qualità, ma consente anche agli appassionati di musica di esplorare e sfruttare la vasta gamma di funzionalità offerte dalla piattaforma.\n",
    "\n",
    "Affrontando le diverse fasi del tutorial, abbiamo fornito una guida dettagliata su come autenticarsi, utilizzare le API RESTful di Spotify e integrare efficacemente le API Python di Spotify nel processo di sviluppo. L'approfondita sezione sull'estrazione dati e analisi ci ha mostrato come tradurre i dati ottenuti in informazioni significative e utili.\n",
    "\n",
    "In conclusione, l'API Web di Spotify si presenta come una risorsa indispensabile per gli sviluppatori e gli appassionati di musica desiderosi di sfruttare appieno le potenzialità offerte dal vasto e diversificato mondo musicale di Spotify. Sono sicuro che l'esperienza acquisita in questo tutorial aprirà nuove prospettive creative e consentirà di creare applicazioni musicali innovative e coinvolgenti."
   ]
  }
 ],
 "metadata": {
  "kernelspec": {
   "display_name": "smda",
   "language": "python",
   "name": "python3"
  },
  "language_info": {
   "codemirror_mode": {
    "name": "ipython",
    "version": 3
   },
   "file_extension": ".py",
   "mimetype": "text/x-python",
   "name": "python",
   "nbconvert_exporter": "python",
   "pygments_lexer": "ipython3",
   "version": "3.9.19"
  }
 },
 "nbformat": 4,
 "nbformat_minor": 5
}
